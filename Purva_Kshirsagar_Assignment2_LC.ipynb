{
 "cells": [
  {
   "cell_type": "markdown",
   "metadata": {},
   "source": [
    "# Assignment2\n",
    "\n",
    "Lending Club is a peer-to-peer online lending platform. It is the world’s largest marketplace connecting borrowers and investors, where consumers and small business owners lower the cost of their credit and enjoy a better experience than traditional bank lending, and investors earn attractive risk-adjusted returns.Essentially, borrowers apply for loans and are assigned an interest rate by LendingClub. Individual investors are able to choose loans to fund or invest in, raising capital for a loan in a similar way to a crowd-sourcing campaign. As an investor, your returns vary based on the loans you choose (both the interest and default rates). Therefore, if you can better predict which borrowers will pay back their loans, you can expect better investment returns.\n",
    "\n",
    "In this assignment, you will be analyzing data from LendingClub (<a href = \"https://www.lendingclub.com/\">www.lendingclub.com</a>). Using the lending data from 2007-2010, you need to create models that predict whether or not borrowers paid back their loan in full. The final model should minimize the number of borrowers who actually did not pay back their load in full but predicted as they did (this is our model selection criteria).\n",
    "\n",
    "\n",
    "You need to create a Random Forest model and a Support Vector model using the same training/testing data. For both models, you need to optimize the parameters using a Grid Search. \n",
    "- For random forest, test the following number of trees in the forest: 10, 50, 100, 200, 300, 500, 800\n",
    "- For svm, test the following:\n",
    "    - C values: 0.1,1,10\n",
    "    - gamma values: \"auto\",\"scale\",\n",
    "    - kernel: \"poly\",'linear','rbf'\n",
    "    \n",
    "Do not drop any of the features and make sure to scale them using StandardScaler (otherwise GridSearch for SVM will take a very very long time)\n",
    "\n",
    "At the very bottom of your notebook, please explain how your models have performed and which model performed the best given the criteria.\n",
    "\n",
    "Here are what the columns in the data represent:\n",
    "* credit.policy: 1 if the customer meets the credit underwriting criteria of LendingClub.com, and 0 otherwise.\n",
    "* purpose: The purpose of the loan (takes values \"credit_card\", \"debt_consolidation\", \"educational\", \"major_purchase\", \"small_business\", and \"all_other\").\n",
    "* int.rate: The interest rate of the loan, as a proportion. Borrowers judged by LendingClub.com to be more risky are assigned higher interest rates.\n",
    "* installment: The monthly installments owed by the borrower if the loan is funded.\n",
    "* log.annual.inc: The natural log of the self-reported annual income of the borrower.\n",
    "* dti: The debt-to-income ratio of the borrower (amount of debt divided by annual income).\n",
    "* fico: The FICO credit score of the borrower.\n",
    "* days.with.cr.line: The number of days the borrower has had a credit line.\n",
    "* revol.bal: The borrower's revolving balance (amount unpaid at the end of the credit card billing cycle).\n",
    "* revol.util: The borrower's revolving line utilization rate (the amount of the credit line used relative to total credit available).\n",
    "* inq.last.6mths: The borrower's number of inquiries by creditors in the last 6 months.\n",
    "* delinq.2yrs: The number of times the borrower had been 30+ days past due on a payment in the past 2 years.\n",
    "* pub.rec: The borrower's number of derogatory public records (bankruptcy filings, tax liens, or judgments).\n",
    "* not.fully.paid: 1 if the borrower did not pay back their loan in full, 0 if they paid back their loan in full.\n",
    "\n",
    "\n"
   ]
  },
  {
   "cell_type": "markdown",
   "metadata": {},
   "source": [
    "# Import Libraries\n"
   ]
  },
  {
   "cell_type": "code",
   "execution_count": 1,
   "metadata": {},
   "outputs": [],
   "source": [
    "import pandas as pd\n",
    "import numpy as np\n",
    "import matplotlib.pyplot as plt\n",
    "import seaborn as sns\n",
    "%matplotlib inline\n",
    "from sklearn import preprocessing"
   ]
  },
  {
   "cell_type": "markdown",
   "metadata": {},
   "source": [
    "# Get the Data\n",
    "\n"
   ]
  },
  {
   "cell_type": "code",
   "execution_count": 2,
   "metadata": {},
   "outputs": [],
   "source": [
    "df_loan = pd.read_csv('loan_data.csv')"
   ]
  },
  {
   "cell_type": "code",
   "execution_count": 3,
   "metadata": {},
   "outputs": [
    {
     "data": {
      "text/html": [
       "<div>\n",
       "<style scoped>\n",
       "    .dataframe tbody tr th:only-of-type {\n",
       "        vertical-align: middle;\n",
       "    }\n",
       "\n",
       "    .dataframe tbody tr th {\n",
       "        vertical-align: top;\n",
       "    }\n",
       "\n",
       "    .dataframe thead th {\n",
       "        text-align: right;\n",
       "    }\n",
       "</style>\n",
       "<table border=\"1\" class=\"dataframe\">\n",
       "  <thead>\n",
       "    <tr style=\"text-align: right;\">\n",
       "      <th></th>\n",
       "      <th>credit.policy</th>\n",
       "      <th>purpose</th>\n",
       "      <th>int.rate</th>\n",
       "      <th>installment</th>\n",
       "      <th>log.annual.inc</th>\n",
       "      <th>dti</th>\n",
       "      <th>fico</th>\n",
       "      <th>days.with.cr.line</th>\n",
       "      <th>revol.bal</th>\n",
       "      <th>revol.util</th>\n",
       "      <th>inq.last.6mths</th>\n",
       "      <th>delinq.2yrs</th>\n",
       "      <th>pub.rec</th>\n",
       "      <th>not.fully.paid</th>\n",
       "    </tr>\n",
       "  </thead>\n",
       "  <tbody>\n",
       "    <tr>\n",
       "      <th>0</th>\n",
       "      <td>1</td>\n",
       "      <td>debt_consolidation</td>\n",
       "      <td>0.1670</td>\n",
       "      <td>674.53</td>\n",
       "      <td>10.887437</td>\n",
       "      <td>19.87</td>\n",
       "      <td>667</td>\n",
       "      <td>3904.958333</td>\n",
       "      <td>17176</td>\n",
       "      <td>73.4</td>\n",
       "      <td>1</td>\n",
       "      <td>0</td>\n",
       "      <td>0</td>\n",
       "      <td>1</td>\n",
       "    </tr>\n",
       "    <tr>\n",
       "      <th>1</th>\n",
       "      <td>1</td>\n",
       "      <td>all_other</td>\n",
       "      <td>0.0740</td>\n",
       "      <td>82.31</td>\n",
       "      <td>9.210340</td>\n",
       "      <td>1.20</td>\n",
       "      <td>807</td>\n",
       "      <td>3899.958333</td>\n",
       "      <td>82</td>\n",
       "      <td>2.3</td>\n",
       "      <td>0</td>\n",
       "      <td>0</td>\n",
       "      <td>0</td>\n",
       "      <td>1</td>\n",
       "    </tr>\n",
       "    <tr>\n",
       "      <th>2</th>\n",
       "      <td>1</td>\n",
       "      <td>all_other</td>\n",
       "      <td>0.1218</td>\n",
       "      <td>166.50</td>\n",
       "      <td>10.915088</td>\n",
       "      <td>22.45</td>\n",
       "      <td>702</td>\n",
       "      <td>1800.000000</td>\n",
       "      <td>16957</td>\n",
       "      <td>67.0</td>\n",
       "      <td>3</td>\n",
       "      <td>0</td>\n",
       "      <td>0</td>\n",
       "      <td>1</td>\n",
       "    </tr>\n",
       "    <tr>\n",
       "      <th>3</th>\n",
       "      <td>1</td>\n",
       "      <td>debt_consolidation</td>\n",
       "      <td>0.1287</td>\n",
       "      <td>420.42</td>\n",
       "      <td>10.545341</td>\n",
       "      <td>10.39</td>\n",
       "      <td>707</td>\n",
       "      <td>3119.958333</td>\n",
       "      <td>12343</td>\n",
       "      <td>67.8</td>\n",
       "      <td>0</td>\n",
       "      <td>0</td>\n",
       "      <td>0</td>\n",
       "      <td>1</td>\n",
       "    </tr>\n",
       "    <tr>\n",
       "      <th>4</th>\n",
       "      <td>1</td>\n",
       "      <td>debt_consolidation</td>\n",
       "      <td>0.1114</td>\n",
       "      <td>82.01</td>\n",
       "      <td>11.156251</td>\n",
       "      <td>18.09</td>\n",
       "      <td>712</td>\n",
       "      <td>8130.000000</td>\n",
       "      <td>14482</td>\n",
       "      <td>84.2</td>\n",
       "      <td>0</td>\n",
       "      <td>0</td>\n",
       "      <td>0</td>\n",
       "      <td>1</td>\n",
       "    </tr>\n",
       "  </tbody>\n",
       "</table>\n",
       "</div>"
      ],
      "text/plain": [
       "   credit.policy             purpose  int.rate  installment  log.annual.inc  \\\n",
       "0              1  debt_consolidation    0.1670       674.53       10.887437   \n",
       "1              1           all_other    0.0740        82.31        9.210340   \n",
       "2              1           all_other    0.1218       166.50       10.915088   \n",
       "3              1  debt_consolidation    0.1287       420.42       10.545341   \n",
       "4              1  debt_consolidation    0.1114        82.01       11.156251   \n",
       "\n",
       "     dti  fico  days.with.cr.line  revol.bal  revol.util  inq.last.6mths  \\\n",
       "0  19.87   667        3904.958333      17176        73.4               1   \n",
       "1   1.20   807        3899.958333         82         2.3               0   \n",
       "2  22.45   702        1800.000000      16957        67.0               3   \n",
       "3  10.39   707        3119.958333      12343        67.8               0   \n",
       "4  18.09   712        8130.000000      14482        84.2               0   \n",
       "\n",
       "   delinq.2yrs  pub.rec  not.fully.paid  \n",
       "0            0        0               1  \n",
       "1            0        0               1  \n",
       "2            0        0               1  \n",
       "3            0        0               1  \n",
       "4            0        0               1  "
      ]
     },
     "execution_count": 3,
     "metadata": {},
     "output_type": "execute_result"
    }
   ],
   "source": [
    "df_loan.head()"
   ]
  },
  {
   "cell_type": "code",
   "execution_count": null,
   "metadata": {},
   "outputs": [],
   "source": []
  },
  {
   "cell_type": "markdown",
   "metadata": {},
   "source": [
    "# Exploratory Data Analysis"
   ]
  },
  {
   "cell_type": "code",
   "execution_count": 4,
   "metadata": {},
   "outputs": [
    {
     "data": {
      "text/plain": [
       "<matplotlib.axes._subplots.AxesSubplot at 0x2086be265e0>"
      ]
     },
     "execution_count": 4,
     "metadata": {},
     "output_type": "execute_result"
    },
    {
     "data": {
      "image/png": "[encoded data removed]",
      "text/plain": [
       "<Figure size 432x288 with 1 Axes>"
      ]
     },
     "metadata": {
      "needs_background": "light"
     },
     "output_type": "display_data"
    }
   ],
   "source": [
    "df_loan['not.fully.paid'].plot.hist()"
   ]
  },
  {
   "cell_type": "code",
   "execution_count": null,
   "metadata": {},
   "outputs": [],
   "source": []
  },
  {
   "cell_type": "markdown",
   "metadata": {},
   "source": [
    "# Data Cleaning"
   ]
  },
  {
   "cell_type": "code",
   "execution_count": 5,
   "metadata": {},
   "outputs": [],
   "source": [
    "df_loan_new = pd.get_dummies(df_loan['purpose'])"
   ]
  },
  {
   "cell_type": "code",
   "execution_count": 6,
   "metadata": {},
   "outputs": [
    {
     "data": {
      "text/html": [
       "<div>\n",
       "<style scoped>\n",
       "    .dataframe tbody tr th:only-of-type {\n",
       "        vertical-align: middle;\n",
       "    }\n",
       "\n",
       "    .dataframe tbody tr th {\n",
       "        vertical-align: top;\n",
       "    }\n",
       "\n",
       "    .dataframe thead th {\n",
       "        text-align: right;\n",
       "    }\n",
       "</style>\n",
       "<table border=\"1\" class=\"dataframe\">\n",
       "  <thead>\n",
       "    <tr style=\"text-align: right;\">\n",
       "      <th></th>\n",
       "      <th>credit.policy</th>\n",
       "      <th>purpose</th>\n",
       "      <th>int.rate</th>\n",
       "      <th>installment</th>\n",
       "      <th>log.annual.inc</th>\n",
       "      <th>dti</th>\n",
       "      <th>fico</th>\n",
       "      <th>days.with.cr.line</th>\n",
       "      <th>revol.bal</th>\n",
       "      <th>revol.util</th>\n",
       "      <th>inq.last.6mths</th>\n",
       "      <th>delinq.2yrs</th>\n",
       "      <th>pub.rec</th>\n",
       "      <th>not.fully.paid</th>\n",
       "    </tr>\n",
       "  </thead>\n",
       "  <tbody>\n",
       "    <tr>\n",
       "      <th>0</th>\n",
       "      <td>1</td>\n",
       "      <td>debt_consolidation</td>\n",
       "      <td>0.1670</td>\n",
       "      <td>674.53</td>\n",
       "      <td>10.887437</td>\n",
       "      <td>19.87</td>\n",
       "      <td>667</td>\n",
       "      <td>3904.958333</td>\n",
       "      <td>17176</td>\n",
       "      <td>73.4</td>\n",
       "      <td>1</td>\n",
       "      <td>0</td>\n",
       "      <td>0</td>\n",
       "      <td>1</td>\n",
       "    </tr>\n",
       "    <tr>\n",
       "      <th>1</th>\n",
       "      <td>1</td>\n",
       "      <td>all_other</td>\n",
       "      <td>0.0740</td>\n",
       "      <td>82.31</td>\n",
       "      <td>9.210340</td>\n",
       "      <td>1.20</td>\n",
       "      <td>807</td>\n",
       "      <td>3899.958333</td>\n",
       "      <td>82</td>\n",
       "      <td>2.3</td>\n",
       "      <td>0</td>\n",
       "      <td>0</td>\n",
       "      <td>0</td>\n",
       "      <td>1</td>\n",
       "    </tr>\n",
       "    <tr>\n",
       "      <th>2</th>\n",
       "      <td>1</td>\n",
       "      <td>all_other</td>\n",
       "      <td>0.1218</td>\n",
       "      <td>166.50</td>\n",
       "      <td>10.915088</td>\n",
       "      <td>22.45</td>\n",
       "      <td>702</td>\n",
       "      <td>1800.000000</td>\n",
       "      <td>16957</td>\n",
       "      <td>67.0</td>\n",
       "      <td>3</td>\n",
       "      <td>0</td>\n",
       "      <td>0</td>\n",
       "      <td>1</td>\n",
       "    </tr>\n",
       "    <tr>\n",
       "      <th>3</th>\n",
       "      <td>1</td>\n",
       "      <td>debt_consolidation</td>\n",
       "      <td>0.1287</td>\n",
       "      <td>420.42</td>\n",
       "      <td>10.545341</td>\n",
       "      <td>10.39</td>\n",
       "      <td>707</td>\n",
       "      <td>3119.958333</td>\n",
       "      <td>12343</td>\n",
       "      <td>67.8</td>\n",
       "      <td>0</td>\n",
       "      <td>0</td>\n",
       "      <td>0</td>\n",
       "      <td>1</td>\n",
       "    </tr>\n",
       "    <tr>\n",
       "      <th>4</th>\n",
       "      <td>1</td>\n",
       "      <td>debt_consolidation</td>\n",
       "      <td>0.1114</td>\n",
       "      <td>82.01</td>\n",
       "      <td>11.156251</td>\n",
       "      <td>18.09</td>\n",
       "      <td>712</td>\n",
       "      <td>8130.000000</td>\n",
       "      <td>14482</td>\n",
       "      <td>84.2</td>\n",
       "      <td>0</td>\n",
       "      <td>0</td>\n",
       "      <td>0</td>\n",
       "      <td>1</td>\n",
       "    </tr>\n",
       "  </tbody>\n",
       "</table>\n",
       "</div>"
      ],
      "text/plain": [
       "   credit.policy             purpose  int.rate  installment  log.annual.inc  \\\n",
       "0              1  debt_consolidation    0.1670       674.53       10.887437   \n",
       "1              1           all_other    0.0740        82.31        9.210340   \n",
       "2              1           all_other    0.1218       166.50       10.915088   \n",
       "3              1  debt_consolidation    0.1287       420.42       10.545341   \n",
       "4              1  debt_consolidation    0.1114        82.01       11.156251   \n",
       "\n",
       "     dti  fico  days.with.cr.line  revol.bal  revol.util  inq.last.6mths  \\\n",
       "0  19.87   667        3904.958333      17176        73.4               1   \n",
       "1   1.20   807        3899.958333         82         2.3               0   \n",
       "2  22.45   702        1800.000000      16957        67.0               3   \n",
       "3  10.39   707        3119.958333      12343        67.8               0   \n",
       "4  18.09   712        8130.000000      14482        84.2               0   \n",
       "\n",
       "   delinq.2yrs  pub.rec  not.fully.paid  \n",
       "0            0        0               1  \n",
       "1            0        0               1  \n",
       "2            0        0               1  \n",
       "3            0        0               1  \n",
       "4            0        0               1  "
      ]
     },
     "execution_count": 6,
     "metadata": {},
     "output_type": "execute_result"
    }
   ],
   "source": [
    "df_loan.head()"
   ]
  },
  {
   "cell_type": "code",
   "execution_count": 7,
   "metadata": {},
   "outputs": [
    {
     "data": {
      "text/html": [
       "<div>\n",
       "<style scoped>\n",
       "    .dataframe tbody tr th:only-of-type {\n",
       "        vertical-align: middle;\n",
       "    }\n",
       "\n",
       "    .dataframe tbody tr th {\n",
       "        vertical-align: top;\n",
       "    }\n",
       "\n",
       "    .dataframe thead th {\n",
       "        text-align: right;\n",
       "    }\n",
       "</style>\n",
       "<table border=\"1\" class=\"dataframe\">\n",
       "  <thead>\n",
       "    <tr style=\"text-align: right;\">\n",
       "      <th></th>\n",
       "      <th>credit.policy</th>\n",
       "      <th>int.rate</th>\n",
       "      <th>installment</th>\n",
       "      <th>log.annual.inc</th>\n",
       "      <th>dti</th>\n",
       "      <th>fico</th>\n",
       "      <th>days.with.cr.line</th>\n",
       "      <th>revol.bal</th>\n",
       "      <th>revol.util</th>\n",
       "      <th>inq.last.6mths</th>\n",
       "      <th>delinq.2yrs</th>\n",
       "      <th>pub.rec</th>\n",
       "      <th>not.fully.paid</th>\n",
       "      <th>all_other</th>\n",
       "      <th>credit_card</th>\n",
       "      <th>debt_consolidation</th>\n",
       "      <th>educational</th>\n",
       "      <th>home_improvement</th>\n",
       "      <th>major_purchase</th>\n",
       "      <th>small_business</th>\n",
       "    </tr>\n",
       "  </thead>\n",
       "  <tbody>\n",
       "    <tr>\n",
       "      <th>0</th>\n",
       "      <td>1</td>\n",
       "      <td>0.1670</td>\n",
       "      <td>674.53</td>\n",
       "      <td>10.887437</td>\n",
       "      <td>19.87</td>\n",
       "      <td>667</td>\n",
       "      <td>3904.958333</td>\n",
       "      <td>17176</td>\n",
       "      <td>73.4</td>\n",
       "      <td>1</td>\n",
       "      <td>0</td>\n",
       "      <td>0</td>\n",
       "      <td>1</td>\n",
       "      <td>0</td>\n",
       "      <td>0</td>\n",
       "      <td>1</td>\n",
       "      <td>0</td>\n",
       "      <td>0</td>\n",
       "      <td>0</td>\n",
       "      <td>0</td>\n",
       "    </tr>\n",
       "    <tr>\n",
       "      <th>1</th>\n",
       "      <td>1</td>\n",
       "      <td>0.0740</td>\n",
       "      <td>82.31</td>\n",
       "      <td>9.210340</td>\n",
       "      <td>1.20</td>\n",
       "      <td>807</td>\n",
       "      <td>3899.958333</td>\n",
       "      <td>82</td>\n",
       "      <td>2.3</td>\n",
       "      <td>0</td>\n",
       "      <td>0</td>\n",
       "      <td>0</td>\n",
       "      <td>1</td>\n",
       "      <td>1</td>\n",
       "      <td>0</td>\n",
       "      <td>0</td>\n",
       "      <td>0</td>\n",
       "      <td>0</td>\n",
       "      <td>0</td>\n",
       "      <td>0</td>\n",
       "    </tr>\n",
       "    <tr>\n",
       "      <th>2</th>\n",
       "      <td>1</td>\n",
       "      <td>0.1218</td>\n",
       "      <td>166.50</td>\n",
       "      <td>10.915088</td>\n",
       "      <td>22.45</td>\n",
       "      <td>702</td>\n",
       "      <td>1800.000000</td>\n",
       "      <td>16957</td>\n",
       "      <td>67.0</td>\n",
       "      <td>3</td>\n",
       "      <td>0</td>\n",
       "      <td>0</td>\n",
       "      <td>1</td>\n",
       "      <td>1</td>\n",
       "      <td>0</td>\n",
       "      <td>0</td>\n",
       "      <td>0</td>\n",
       "      <td>0</td>\n",
       "      <td>0</td>\n",
       "      <td>0</td>\n",
       "    </tr>\n",
       "    <tr>\n",
       "      <th>3</th>\n",
       "      <td>1</td>\n",
       "      <td>0.1287</td>\n",
       "      <td>420.42</td>\n",
       "      <td>10.545341</td>\n",
       "      <td>10.39</td>\n",
       "      <td>707</td>\n",
       "      <td>3119.958333</td>\n",
       "      <td>12343</td>\n",
       "      <td>67.8</td>\n",
       "      <td>0</td>\n",
       "      <td>0</td>\n",
       "      <td>0</td>\n",
       "      <td>1</td>\n",
       "      <td>0</td>\n",
       "      <td>0</td>\n",
       "      <td>1</td>\n",
       "      <td>0</td>\n",
       "      <td>0</td>\n",
       "      <td>0</td>\n",
       "      <td>0</td>\n",
       "    </tr>\n",
       "    <tr>\n",
       "      <th>4</th>\n",
       "      <td>1</td>\n",
       "      <td>0.1114</td>\n",
       "      <td>82.01</td>\n",
       "      <td>11.156251</td>\n",
       "      <td>18.09</td>\n",
       "      <td>712</td>\n",
       "      <td>8130.000000</td>\n",
       "      <td>14482</td>\n",
       "      <td>84.2</td>\n",
       "      <td>0</td>\n",
       "      <td>0</td>\n",
       "      <td>0</td>\n",
       "      <td>1</td>\n",
       "      <td>0</td>\n",
       "      <td>0</td>\n",
       "      <td>1</td>\n",
       "      <td>0</td>\n",
       "      <td>0</td>\n",
       "      <td>0</td>\n",
       "      <td>0</td>\n",
       "    </tr>\n",
       "  </tbody>\n",
       "</table>\n",
       "</div>"
      ],
      "text/plain": [
       "   credit.policy  int.rate  installment  log.annual.inc    dti  fico  \\\n",
       "0              1    0.1670       674.53       10.887437  19.87   667   \n",
       "1              1    0.0740        82.31        9.210340   1.20   807   \n",
       "2              1    0.1218       166.50       10.915088  22.45   702   \n",
       "3              1    0.1287       420.42       10.545341  10.39   707   \n",
       "4              1    0.1114        82.01       11.156251  18.09   712   \n",
       "\n",
       "   days.with.cr.line  revol.bal  revol.util  inq.last.6mths  delinq.2yrs  \\\n",
       "0        3904.958333      17176        73.4               1            0   \n",
       "1        3899.958333         82         2.3               0            0   \n",
       "2        1800.000000      16957        67.0               3            0   \n",
       "3        3119.958333      12343        67.8               0            0   \n",
       "4        8130.000000      14482        84.2               0            0   \n",
       "\n",
       "   pub.rec  not.fully.paid  all_other  credit_card  debt_consolidation  \\\n",
       "0        0               1          0            0                   1   \n",
       "1        0               1          1            0                   0   \n",
       "2        0               1          1            0                   0   \n",
       "3        0               1          0            0                   1   \n",
       "4        0               1          0            0                   1   \n",
       "\n",
       "   educational  home_improvement  major_purchase  small_business  \n",
       "0            0                 0               0               0  \n",
       "1            0                 0               0               0  \n",
       "2            0                 0               0               0  \n",
       "3            0                 0               0               0  \n",
       "4            0                 0               0               0  "
      ]
     },
     "execution_count": 7,
     "metadata": {},
     "output_type": "execute_result"
    }
   ],
   "source": [
    "df_loan = pd.concat([df_loan, df_loan_new], axis=1)\n",
    "df_loan.drop(['purpose'], axis=1, inplace=True)\n",
    "df_loan.head()"
   ]
  },
  {
   "cell_type": "code",
   "execution_count": 8,
   "metadata": {},
   "outputs": [
    {
     "data": {
      "text/html": [
       "<div>\n",
       "<style scoped>\n",
       "    .dataframe tbody tr th:only-of-type {\n",
       "        vertical-align: middle;\n",
       "    }\n",
       "\n",
       "    .dataframe tbody tr th {\n",
       "        vertical-align: top;\n",
       "    }\n",
       "\n",
       "    .dataframe thead th {\n",
       "        text-align: right;\n",
       "    }\n",
       "</style>\n",
       "<table border=\"1\" class=\"dataframe\">\n",
       "  <thead>\n",
       "    <tr style=\"text-align: right;\">\n",
       "      <th></th>\n",
       "      <th>credit.policy</th>\n",
       "      <th>int.rate</th>\n",
       "      <th>installment</th>\n",
       "      <th>log.annual.inc</th>\n",
       "      <th>dti</th>\n",
       "      <th>fico</th>\n",
       "      <th>days.with.cr.line</th>\n",
       "      <th>revol.bal</th>\n",
       "      <th>revol.util</th>\n",
       "      <th>inq.last.6mths</th>\n",
       "      <th>delinq.2yrs</th>\n",
       "      <th>pub.rec</th>\n",
       "      <th>not.fully.paid</th>\n",
       "      <th>all_other</th>\n",
       "      <th>credit_card</th>\n",
       "      <th>debt_consolidation</th>\n",
       "      <th>educational</th>\n",
       "      <th>home_improvement</th>\n",
       "      <th>major_purchase</th>\n",
       "      <th>small_business</th>\n",
       "    </tr>\n",
       "  </thead>\n",
       "  <tbody>\n",
       "    <tr>\n",
       "      <th>count</th>\n",
       "      <td>9578.000000</td>\n",
       "      <td>9578.000000</td>\n",
       "      <td>9578.000000</td>\n",
       "      <td>9578.000000</td>\n",
       "      <td>9578.000000</td>\n",
       "      <td>9578.000000</td>\n",
       "      <td>9578.000000</td>\n",
       "      <td>9.578000e+03</td>\n",
       "      <td>9578.000000</td>\n",
       "      <td>9578.000000</td>\n",
       "      <td>9578.000000</td>\n",
       "      <td>9578.000000</td>\n",
       "      <td>9578.000000</td>\n",
       "      <td>9578.000000</td>\n",
       "      <td>9578.000000</td>\n",
       "      <td>9578.000000</td>\n",
       "      <td>9578.000000</td>\n",
       "      <td>9578.000000</td>\n",
       "      <td>9578.000000</td>\n",
       "      <td>9578.000000</td>\n",
       "    </tr>\n",
       "    <tr>\n",
       "      <th>mean</th>\n",
       "      <td>0.750783</td>\n",
       "      <td>0.125528</td>\n",
       "      <td>322.757966</td>\n",
       "      <td>10.928091</td>\n",
       "      <td>12.805928</td>\n",
       "      <td>708.647004</td>\n",
       "      <td>4531.012359</td>\n",
       "      <td>1.790938e+04</td>\n",
       "      <td>47.812683</td>\n",
       "      <td>1.779808</td>\n",
       "      <td>0.164022</td>\n",
       "      <td>0.063688</td>\n",
       "      <td>0.248486</td>\n",
       "      <td>0.247129</td>\n",
       "      <td>0.124243</td>\n",
       "      <td>0.408436</td>\n",
       "      <td>0.037482</td>\n",
       "      <td>0.066820</td>\n",
       "      <td>0.045834</td>\n",
       "      <td>0.070056</td>\n",
       "    </tr>\n",
       "    <tr>\n",
       "      <th>std</th>\n",
       "      <td>0.432582</td>\n",
       "      <td>0.027050</td>\n",
       "      <td>210.603178</td>\n",
       "      <td>0.626615</td>\n",
       "      <td>6.926247</td>\n",
       "      <td>37.836367</td>\n",
       "      <td>2507.372905</td>\n",
       "      <td>3.855329e+04</td>\n",
       "      <td>29.131930</td>\n",
       "      <td>2.447285</td>\n",
       "      <td>0.545643</td>\n",
       "      <td>0.265119</td>\n",
       "      <td>0.432158</td>\n",
       "      <td>0.431365</td>\n",
       "      <td>0.329876</td>\n",
       "      <td>0.491570</td>\n",
       "      <td>0.189949</td>\n",
       "      <td>0.249723</td>\n",
       "      <td>0.209136</td>\n",
       "      <td>0.255255</td>\n",
       "    </tr>\n",
       "    <tr>\n",
       "      <th>min</th>\n",
       "      <td>0.000000</td>\n",
       "      <td>0.060000</td>\n",
       "      <td>15.670000</td>\n",
       "      <td>7.547502</td>\n",
       "      <td>0.000000</td>\n",
       "      <td>612.000000</td>\n",
       "      <td>178.958333</td>\n",
       "      <td>0.000000e+00</td>\n",
       "      <td>0.000000</td>\n",
       "      <td>0.000000</td>\n",
       "      <td>0.000000</td>\n",
       "      <td>0.000000</td>\n",
       "      <td>0.000000</td>\n",
       "      <td>0.000000</td>\n",
       "      <td>0.000000</td>\n",
       "      <td>0.000000</td>\n",
       "      <td>0.000000</td>\n",
       "      <td>0.000000</td>\n",
       "      <td>0.000000</td>\n",
       "      <td>0.000000</td>\n",
       "    </tr>\n",
       "    <tr>\n",
       "      <th>25%</th>\n",
       "      <td>1.000000</td>\n",
       "      <td>0.109900</td>\n",
       "      <td>164.562500</td>\n",
       "      <td>10.545447</td>\n",
       "      <td>7.382500</td>\n",
       "      <td>682.000000</td>\n",
       "      <td>2791.291667</td>\n",
       "      <td>3.140500e+03</td>\n",
       "      <td>23.700000</td>\n",
       "      <td>0.000000</td>\n",
       "      <td>0.000000</td>\n",
       "      <td>0.000000</td>\n",
       "      <td>0.000000</td>\n",
       "      <td>0.000000</td>\n",
       "      <td>0.000000</td>\n",
       "      <td>0.000000</td>\n",
       "      <td>0.000000</td>\n",
       "      <td>0.000000</td>\n",
       "      <td>0.000000</td>\n",
       "      <td>0.000000</td>\n",
       "    </tr>\n",
       "    <tr>\n",
       "      <th>50%</th>\n",
       "      <td>1.000000</td>\n",
       "      <td>0.125300</td>\n",
       "      <td>270.410000</td>\n",
       "      <td>10.915088</td>\n",
       "      <td>12.900000</td>\n",
       "      <td>702.000000</td>\n",
       "      <td>4110.000000</td>\n",
       "      <td>8.593000e+03</td>\n",
       "      <td>47.800000</td>\n",
       "      <td>1.000000</td>\n",
       "      <td>0.000000</td>\n",
       "      <td>0.000000</td>\n",
       "      <td>0.000000</td>\n",
       "      <td>0.000000</td>\n",
       "      <td>0.000000</td>\n",
       "      <td>0.000000</td>\n",
       "      <td>0.000000</td>\n",
       "      <td>0.000000</td>\n",
       "      <td>0.000000</td>\n",
       "      <td>0.000000</td>\n",
       "    </tr>\n",
       "    <tr>\n",
       "      <th>75%</th>\n",
       "      <td>1.000000</td>\n",
       "      <td>0.142600</td>\n",
       "      <td>444.560000</td>\n",
       "      <td>11.289832</td>\n",
       "      <td>18.180000</td>\n",
       "      <td>732.000000</td>\n",
       "      <td>5707.781250</td>\n",
       "      <td>1.849325e+04</td>\n",
       "      <td>72.100000</td>\n",
       "      <td>3.000000</td>\n",
       "      <td>0.000000</td>\n",
       "      <td>0.000000</td>\n",
       "      <td>0.000000</td>\n",
       "      <td>0.000000</td>\n",
       "      <td>0.000000</td>\n",
       "      <td>1.000000</td>\n",
       "      <td>0.000000</td>\n",
       "      <td>0.000000</td>\n",
       "      <td>0.000000</td>\n",
       "      <td>0.000000</td>\n",
       "    </tr>\n",
       "    <tr>\n",
       "      <th>max</th>\n",
       "      <td>1.000000</td>\n",
       "      <td>0.216400</td>\n",
       "      <td>940.140000</td>\n",
       "      <td>14.180154</td>\n",
       "      <td>29.960000</td>\n",
       "      <td>827.000000</td>\n",
       "      <td>17639.958330</td>\n",
       "      <td>1.207359e+06</td>\n",
       "      <td>119.000000</td>\n",
       "      <td>33.000000</td>\n",
       "      <td>13.000000</td>\n",
       "      <td>5.000000</td>\n",
       "      <td>1.000000</td>\n",
       "      <td>1.000000</td>\n",
       "      <td>1.000000</td>\n",
       "      <td>1.000000</td>\n",
       "      <td>1.000000</td>\n",
       "      <td>1.000000</td>\n",
       "      <td>1.000000</td>\n",
       "      <td>1.000000</td>\n",
       "    </tr>\n",
       "  </tbody>\n",
       "</table>\n",
       "</div>"
      ],
      "text/plain": [
       "       credit.policy     int.rate  installment  log.annual.inc          dti  \\\n",
       "count    9578.000000  9578.000000  9578.000000     9578.000000  9578.000000   \n",
       "mean        0.750783     0.125528   322.757966       10.928091    12.805928   \n",
       "std         0.432582     0.027050   210.603178        0.626615     6.926247   \n",
       "min         0.000000     0.060000    15.670000        7.547502     0.000000   \n",
       "25%         1.000000     0.109900   164.562500       10.545447     7.382500   \n",
       "50%         1.000000     0.125300   270.410000       10.915088    12.900000   \n",
       "75%         1.000000     0.142600   444.560000       11.289832    18.180000   \n",
       "max         1.000000     0.216400   940.140000       14.180154    29.960000   \n",
       "\n",
       "              fico  days.with.cr.line     revol.bal   revol.util  \\\n",
       "count  9578.000000        9578.000000  9.578000e+03  9578.000000   \n",
       "mean    708.647004        4531.012359  1.790938e+04    47.812683   \n",
       "std      37.836367        2507.372905  3.855329e+04    29.131930   \n",
       "min     612.000000         178.958333  0.000000e+00     0.000000   \n",
       "25%     682.000000        2791.291667  3.140500e+03    23.700000   \n",
       "50%     702.000000        4110.000000  8.593000e+03    47.800000   \n",
       "75%     732.000000        5707.781250  1.849325e+04    72.100000   \n",
       "max     827.000000       17639.958330  1.207359e+06   119.000000   \n",
       "\n",
       "       inq.last.6mths  delinq.2yrs      pub.rec  not.fully.paid    all_other  \\\n",
       "count     9578.000000  9578.000000  9578.000000     9578.000000  9578.000000   \n",
       "mean         1.779808     0.164022     0.063688        0.248486     0.247129   \n",
       "std          2.447285     0.545643     0.265119        0.432158     0.431365   \n",
       "min          0.000000     0.000000     0.000000        0.000000     0.000000   \n",
       "25%          0.000000     0.000000     0.000000        0.000000     0.000000   \n",
       "50%          1.000000     0.000000     0.000000        0.000000     0.000000   \n",
       "75%          3.000000     0.000000     0.000000        0.000000     0.000000   \n",
       "max         33.000000    13.000000     5.000000        1.000000     1.000000   \n",
       "\n",
       "       credit_card  debt_consolidation  educational  home_improvement  \\\n",
       "count  9578.000000         9578.000000  9578.000000       9578.000000   \n",
       "mean      0.124243            0.408436     0.037482          0.066820   \n",
       "std       0.329876            0.491570     0.189949          0.249723   \n",
       "min       0.000000            0.000000     0.000000          0.000000   \n",
       "25%       0.000000            0.000000     0.000000          0.000000   \n",
       "50%       0.000000            0.000000     0.000000          0.000000   \n",
       "75%       0.000000            1.000000     0.000000          0.000000   \n",
       "max       1.000000            1.000000     1.000000          1.000000   \n",
       "\n",
       "       major_purchase  small_business  \n",
       "count     9578.000000     9578.000000  \n",
       "mean         0.045834        0.070056  \n",
       "std          0.209136        0.255255  \n",
       "min          0.000000        0.000000  \n",
       "25%          0.000000        0.000000  \n",
       "50%          0.000000        0.000000  \n",
       "75%          0.000000        0.000000  \n",
       "max          1.000000        1.000000  "
      ]
     },
     "execution_count": 8,
     "metadata": {},
     "output_type": "execute_result"
    }
   ],
   "source": [
    "df_loan.describe()"
   ]
  },
  {
   "cell_type": "markdown",
   "metadata": {},
   "source": [
    "# Train Test Split\n"
   ]
  },
  {
   "cell_type": "code",
   "execution_count": 9,
   "metadata": {},
   "outputs": [],
   "source": [
    "X = df_loan.drop('not.fully.paid', axis=1)"
   ]
  },
  {
   "cell_type": "code",
   "execution_count": 10,
   "metadata": {},
   "outputs": [],
   "source": [
    "y = df_loan['not.fully.paid']"
   ]
  },
  {
   "cell_type": "code",
   "execution_count": 11,
   "metadata": {},
   "outputs": [],
   "source": [
    "from sklearn.model_selection import train_test_split"
   ]
  },
  {
   "cell_type": "code",
   "execution_count": 12,
   "metadata": {},
   "outputs": [],
   "source": [
    "X_train, X_test, y_train, y_test = train_test_split(X, y, test_size=0.2, random_state=0)"
   ]
  },
  {
   "cell_type": "code",
   "execution_count": 13,
   "metadata": {},
   "outputs": [],
   "source": [
    "from sklearn.preprocessing import StandardScaler\n",
    "sc = StandardScaler()\n",
    "X_train_scaled = sc.fit_transform(X_train)\n",
    "X_test_scaled = sc.transform(X_test)"
   ]
  },
  {
   "cell_type": "markdown",
   "metadata": {},
   "source": [
    "# Training 1st  model\n"
   ]
  },
  {
   "cell_type": "code",
   "execution_count": 14,
   "metadata": {},
   "outputs": [],
   "source": [
    "from sklearn.ensemble import RandomForestClassifier"
   ]
  },
  {
   "cell_type": "code",
   "execution_count": 15,
   "metadata": {},
   "outputs": [],
   "source": [
    "classifier = RandomForestClassifier(n_estimators=10, random_state=42)"
   ]
  },
  {
   "cell_type": "code",
   "execution_count": 16,
   "metadata": {},
   "outputs": [
    {
     "data": {
      "text/plain": [
       "RandomForestClassifier(n_estimators=10, random_state=42)"
      ]
     },
     "execution_count": 16,
     "metadata": {},
     "output_type": "execute_result"
    }
   ],
   "source": [
    "classifier.fit(X_train_scaled, y_train)"
   ]
  },
  {
   "cell_type": "code",
   "execution_count": null,
   "metadata": {},
   "outputs": [],
   "source": []
  },
  {
   "cell_type": "markdown",
   "metadata": {},
   "source": [
    "# Predictions and Evaluation of 1st model\n"
   ]
  },
  {
   "cell_type": "code",
   "execution_count": 17,
   "metadata": {},
   "outputs": [],
   "source": [
    "forest_predictions = classifier.predict(X_test_scaled)"
   ]
  },
  {
   "cell_type": "code",
   "execution_count": 18,
   "metadata": {},
   "outputs": [],
   "source": [
    "from sklearn.metrics import classification_report, confusion_matrix"
   ]
  },
  {
   "cell_type": "code",
   "execution_count": 19,
   "metadata": {},
   "outputs": [
    {
     "name": "stdout",
     "output_type": "stream",
     "text": [
      "              precision    recall  f1-score   support\n",
      "\n",
      "           0       0.85      0.96      0.90      1435\n",
      "           1       0.80      0.49      0.61       481\n",
      "\n",
      "    accuracy                           0.84      1916\n",
      "   macro avg       0.83      0.73      0.76      1916\n",
      "weighted avg       0.84      0.84      0.83      1916\n",
      "\n",
      "[[1377   58]\n",
      " [ 244  237]]\n"
     ]
    }
   ],
   "source": [
    "classifier = RandomForestClassifier(n_estimators=10, random_state=42)\n",
    "classifier.fit(X_train_scaled, y_train)\n",
    "forest_predictions = classifier.predict(X_test_scaled)\n",
    "print(classification_report(y_test, forest_predictions))\n",
    "print(confusion_matrix(y_test, forest_predictions))"
   ]
  },
  {
   "cell_type": "code",
   "execution_count": 20,
   "metadata": {
    "scrolled": true
   },
   "outputs": [
    {
     "name": "stdout",
     "output_type": "stream",
     "text": [
      "              precision    recall  f1-score   support\n",
      "\n",
      "           0       0.86      0.98      0.92      1435\n",
      "           1       0.88      0.54      0.67       481\n",
      "\n",
      "    accuracy                           0.87      1916\n",
      "   macro avg       0.87      0.76      0.79      1916\n",
      "weighted avg       0.87      0.87      0.85      1916\n",
      "\n",
      "[[1401   34]\n",
      " [ 222  259]]\n"
     ]
    }
   ],
   "source": [
    "classifier = RandomForestClassifier(n_estimators=50, random_state=42)\n",
    "classifier.fit(X_train_scaled, y_train)\n",
    "forest_predictions = classifier.predict(X_test_scaled)\n",
    "print(classification_report(y_test, forest_predictions))\n",
    "print(confusion_matrix(y_test, forest_predictions))"
   ]
  },
  {
   "cell_type": "code",
   "execution_count": 21,
   "metadata": {},
   "outputs": [
    {
     "name": "stdout",
     "output_type": "stream",
     "text": [
      "              precision    recall  f1-score   support\n",
      "\n",
      "           0       0.86      0.98      0.92      1435\n",
      "           1       0.89      0.54      0.67       481\n",
      "\n",
      "    accuracy                           0.87      1916\n",
      "   macro avg       0.88      0.76      0.80      1916\n",
      "weighted avg       0.87      0.87      0.86      1916\n",
      "\n",
      "[[1403   32]\n",
      " [ 220  261]]\n"
     ]
    }
   ],
   "source": [
    "classifier = RandomForestClassifier(n_estimators=100, random_state=42)\n",
    "classifier.fit(X_train_scaled, y_train)\n",
    "forest_predictions = classifier.predict(X_test_scaled)\n",
    "print(classification_report(y_test, forest_predictions))\n",
    "print(confusion_matrix(y_test, forest_predictions))"
   ]
  },
  {
   "cell_type": "code",
   "execution_count": 22,
   "metadata": {},
   "outputs": [
    {
     "name": "stdout",
     "output_type": "stream",
     "text": [
      "              precision    recall  f1-score   support\n",
      "\n",
      "           0       0.87      0.98      0.92      1435\n",
      "           1       0.91      0.54      0.68       481\n",
      "\n",
      "    accuracy                           0.87      1916\n",
      "   macro avg       0.89      0.76      0.80      1916\n",
      "weighted avg       0.88      0.87      0.86      1916\n",
      "\n",
      "[[1408   27]\n",
      " [ 219  262]]\n"
     ]
    }
   ],
   "source": [
    "classifier = RandomForestClassifier(n_estimators=200, random_state=42)\n",
    "classifier.fit(X_train_scaled, y_train)\n",
    "forest_predictions = classifier.predict(X_test_scaled)\n",
    "print(classification_report(y_test, forest_predictions))\n",
    "print(confusion_matrix(y_test, forest_predictions))"
   ]
  },
  {
   "cell_type": "code",
   "execution_count": 23,
   "metadata": {},
   "outputs": [
    {
     "name": "stdout",
     "output_type": "stream",
     "text": [
      "              precision    recall  f1-score   support\n",
      "\n",
      "           0       0.86      0.98      0.92      1435\n",
      "           1       0.90      0.54      0.68       481\n",
      "\n",
      "    accuracy                           0.87      1916\n",
      "   macro avg       0.88      0.76      0.80      1916\n",
      "weighted avg       0.87      0.87      0.86      1916\n",
      "\n",
      "[[1407   28]\n",
      " [ 221  260]]\n"
     ]
    }
   ],
   "source": [
    "classifier = RandomForestClassifier(n_estimators=300, random_state=42)\n",
    "classifier.fit(X_train_scaled, y_train)\n",
    "forest_predictions = classifier.predict(X_test_scaled)\n",
    "print(classification_report(y_test, forest_predictions))\n",
    "print(confusion_matrix(y_test, forest_predictions))"
   ]
  },
  {
   "cell_type": "code",
   "execution_count": 24,
   "metadata": {},
   "outputs": [
    {
     "name": "stdout",
     "output_type": "stream",
     "text": [
      "              precision    recall  f1-score   support\n",
      "\n",
      "           0       0.86      0.98      0.92      1435\n",
      "           1       0.90      0.54      0.68       481\n",
      "\n",
      "    accuracy                           0.87      1916\n",
      "   macro avg       0.88      0.76      0.80      1916\n",
      "weighted avg       0.87      0.87      0.86      1916\n",
      "\n",
      "[[1407   28]\n",
      " [ 221  260]]\n"
     ]
    }
   ],
   "source": [
    "classifier = RandomForestClassifier(n_estimators=500, random_state=42)\n",
    "classifier.fit(X_train_scaled, y_train)\n",
    "forest_predictions = classifier.predict(X_test_scaled)\n",
    "print(classification_report(y_test, forest_predictions))\n",
    "print(confusion_matrix(y_test, forest_predictions))"
   ]
  },
  {
   "cell_type": "code",
   "execution_count": 25,
   "metadata": {},
   "outputs": [
    {
     "name": "stdout",
     "output_type": "stream",
     "text": [
      "              precision    recall  f1-score   support\n",
      "\n",
      "           0       0.86      0.98      0.92      1435\n",
      "           1       0.91      0.54      0.68       481\n",
      "\n",
      "    accuracy                           0.87      1916\n",
      "   macro avg       0.89      0.76      0.80      1916\n",
      "weighted avg       0.87      0.87      0.86      1916\n",
      "\n",
      "[[1408   27]\n",
      " [ 221  260]]\n"
     ]
    }
   ],
   "source": [
    "classifier = RandomForestClassifier(n_estimators=800, random_state=42)\n",
    "classifier.fit(X_train_scaled, y_train)\n",
    "forest_predictions = classifier.predict(X_test_scaled)\n",
    "print(classification_report(y_test, forest_predictions))\n",
    "print(confusion_matrix(y_test, forest_predictions))"
   ]
  },
  {
   "cell_type": "code",
   "execution_count": null,
   "metadata": {},
   "outputs": [],
   "source": []
  },
  {
   "cell_type": "markdown",
   "metadata": {},
   "source": [
    "# Training 2nd model"
   ]
  },
  {
   "cell_type": "code",
   "execution_count": 26,
   "metadata": {},
   "outputs": [],
   "source": [
    "from sklearn.svm import SVC"
   ]
  },
  {
   "cell_type": "code",
   "execution_count": 27,
   "metadata": {},
   "outputs": [],
   "source": [
    "svc_model = SVC()"
   ]
  },
  {
   "cell_type": "code",
   "execution_count": 28,
   "metadata": {},
   "outputs": [
    {
     "data": {
      "text/plain": [
       "SVC()"
      ]
     },
     "execution_count": 28,
     "metadata": {},
     "output_type": "execute_result"
    }
   ],
   "source": [
    "svc_model.fit(X_train_scaled, y_train)"
   ]
  },
  {
   "cell_type": "code",
   "execution_count": null,
   "metadata": {},
   "outputs": [],
   "source": []
  },
  {
   "cell_type": "markdown",
   "metadata": {},
   "source": [
    "# Predictions and Evaluation of 2nd model"
   ]
  },
  {
   "cell_type": "code",
   "execution_count": 29,
   "metadata": {},
   "outputs": [],
   "source": [
    "predictions = svc_model.predict(X_test_scaled)"
   ]
  },
  {
   "cell_type": "code",
   "execution_count": 30,
   "metadata": {},
   "outputs": [],
   "source": [
    "from sklearn.metrics import classification_report,confusion_matrix"
   ]
  },
  {
   "cell_type": "code",
   "execution_count": 31,
   "metadata": {},
   "outputs": [
    {
     "name": "stdout",
     "output_type": "stream",
     "text": [
      "[[1383   52]\n",
      " [ 427   54]]\n"
     ]
    }
   ],
   "source": [
    "print(confusion_matrix(y_test, predictions))"
   ]
  },
  {
   "cell_type": "code",
   "execution_count": 32,
   "metadata": {},
   "outputs": [
    {
     "name": "stdout",
     "output_type": "stream",
     "text": [
      "              precision    recall  f1-score   support\n",
      "\n",
      "           0       0.76      0.96      0.85      1435\n",
      "           1       0.51      0.11      0.18       481\n",
      "\n",
      "    accuracy                           0.75      1916\n",
      "   macro avg       0.64      0.54      0.52      1916\n",
      "weighted avg       0.70      0.75      0.68      1916\n",
      "\n"
     ]
    }
   ],
   "source": [
    "print(classification_report(y_test, predictions))"
   ]
  },
  {
   "cell_type": "code",
   "execution_count": 33,
   "metadata": {},
   "outputs": [],
   "source": [
    "param_grid = {'C': [0.1, 1, 10], 'gamma': [\"auto\",\"scale\"],'kernel': ['poly', 'linear','rbf']} "
   ]
  },
  {
   "cell_type": "code",
   "execution_count": 34,
   "metadata": {},
   "outputs": [],
   "source": [
    "from sklearn.model_selection import GridSearchCV"
   ]
  },
  {
   "cell_type": "code",
   "execution_count": 35,
   "metadata": {},
   "outputs": [],
   "source": [
    "grid = GridSearchCV(SVC(), param_grid, verbose=3)"
   ]
  },
  {
   "cell_type": "code",
   "execution_count": 36,
   "metadata": {},
   "outputs": [
    {
     "name": "stdout",
     "output_type": "stream",
     "text": [
      "Fitting 5 folds for each of 18 candidates, totalling 90 fits\n",
      "[CV] C=0.1, gamma=auto, kernel=poly ..................................\n"
     ]
    },
    {
     "name": "stderr",
     "output_type": "stream",
     "text": [
      "[Parallel(n_jobs=1)]: Using backend SequentialBackend with 1 concurrent workers.\n"
     ]
    },
    {
     "name": "stdout",
     "output_type": "stream",
     "text": [
      "[CV] ...... C=0.1, gamma=auto, kernel=poly, score=0.756, total=   1.0s\n",
      "[CV] C=0.1, gamma=auto, kernel=poly ..................................\n"
     ]
    },
    {
     "name": "stderr",
     "output_type": "stream",
     "text": [
      "[Parallel(n_jobs=1)]: Done   1 out of   1 | elapsed:    0.9s remaining:    0.0s\n"
     ]
    },
    {
     "name": "stdout",
     "output_type": "stream",
     "text": [
      "[CV] ...... C=0.1, gamma=auto, kernel=poly, score=0.762, total=   1.1s\n",
      "[CV] C=0.1, gamma=auto, kernel=poly ..................................\n"
     ]
    },
    {
     "name": "stderr",
     "output_type": "stream",
     "text": [
      "[Parallel(n_jobs=1)]: Done   2 out of   2 | elapsed:    2.0s remaining:    0.0s\n"
     ]
    },
    {
     "name": "stdout",
     "output_type": "stream",
     "text": [
      "[CV] ...... C=0.1, gamma=auto, kernel=poly, score=0.759, total=   1.0s\n",
      "[CV] C=0.1, gamma=auto, kernel=poly ..................................\n",
      "[CV] ...... C=0.1, gamma=auto, kernel=poly, score=0.765, total=   1.0s\n",
      "[CV] C=0.1, gamma=auto, kernel=poly ..................................\n",
      "[CV] ...... C=0.1, gamma=auto, kernel=poly, score=0.759, total=   1.1s\n",
      "[CV] C=0.1, gamma=auto, kernel=linear ................................\n",
      "[CV] .... C=0.1, gamma=auto, kernel=linear, score=0.752, total=   0.6s\n",
      "[CV] C=0.1, gamma=auto, kernel=linear ................................\n",
      "[CV] .... C=0.1, gamma=auto, kernel=linear, score=0.752, total=   0.6s\n",
      "[CV] C=0.1, gamma=auto, kernel=linear ................................\n",
      "[CV] .... C=0.1, gamma=auto, kernel=linear, score=0.753, total=   0.6s\n",
      "[CV] C=0.1, gamma=auto, kernel=linear ................................\n",
      "[CV] .... C=0.1, gamma=auto, kernel=linear, score=0.752, total=   0.6s\n",
      "[CV] C=0.1, gamma=auto, kernel=linear ................................\n",
      "[CV] .... C=0.1, gamma=auto, kernel=linear, score=0.752, total=   0.6s\n",
      "[CV] C=0.1, gamma=auto, kernel=rbf ...................................\n",
      "[CV] ....... C=0.1, gamma=auto, kernel=rbf, score=0.752, total=   1.2s\n",
      "[CV] C=0.1, gamma=auto, kernel=rbf ...................................\n",
      "[CV] ....... C=0.1, gamma=auto, kernel=rbf, score=0.752, total=   1.2s\n",
      "[CV] C=0.1, gamma=auto, kernel=rbf ...................................\n",
      "[CV] ....... C=0.1, gamma=auto, kernel=rbf, score=0.753, total=   1.2s\n",
      "[CV] C=0.1, gamma=auto, kernel=rbf ...................................\n",
      "[CV] ....... C=0.1, gamma=auto, kernel=rbf, score=0.752, total=   1.3s\n",
      "[CV] C=0.1, gamma=auto, kernel=rbf ...................................\n",
      "[CV] ....... C=0.1, gamma=auto, kernel=rbf, score=0.752, total=   1.2s\n",
      "[CV] C=0.1, gamma=scale, kernel=poly .................................\n",
      "[CV] ..... C=0.1, gamma=scale, kernel=poly, score=0.755, total=   0.9s\n",
      "[CV] C=0.1, gamma=scale, kernel=poly .................................\n",
      "[CV] ..... C=0.1, gamma=scale, kernel=poly, score=0.762, total=   0.9s\n",
      "[CV] C=0.1, gamma=scale, kernel=poly .................................\n",
      "[CV] ..... C=0.1, gamma=scale, kernel=poly, score=0.760, total=   0.9s\n",
      "[CV] C=0.1, gamma=scale, kernel=poly .................................\n",
      "[CV] ..... C=0.1, gamma=scale, kernel=poly, score=0.764, total=   1.0s\n",
      "[CV] C=0.1, gamma=scale, kernel=poly .................................\n",
      "[CV] ..... C=0.1, gamma=scale, kernel=poly, score=0.760, total=   1.0s\n",
      "[CV] C=0.1, gamma=scale, kernel=linear ...............................\n",
      "[CV] ... C=0.1, gamma=scale, kernel=linear, score=0.752, total=   0.6s\n",
      "[CV] C=0.1, gamma=scale, kernel=linear ...............................\n",
      "[CV] ... C=0.1, gamma=scale, kernel=linear, score=0.752, total=   0.5s\n",
      "[CV] C=0.1, gamma=scale, kernel=linear ...............................\n",
      "[CV] ... C=0.1, gamma=scale, kernel=linear, score=0.753, total=   0.6s\n",
      "[CV] C=0.1, gamma=scale, kernel=linear ...............................\n",
      "[CV] ... C=0.1, gamma=scale, kernel=linear, score=0.752, total=   0.5s\n",
      "[CV] C=0.1, gamma=scale, kernel=linear ...............................\n",
      "[CV] ... C=0.1, gamma=scale, kernel=linear, score=0.752, total=   0.6s\n",
      "[CV] C=0.1, gamma=scale, kernel=rbf ..................................\n",
      "[CV] ...... C=0.1, gamma=scale, kernel=rbf, score=0.752, total=   1.2s\n",
      "[CV] C=0.1, gamma=scale, kernel=rbf ..................................\n",
      "[CV] ...... C=0.1, gamma=scale, kernel=rbf, score=0.752, total=   1.2s\n",
      "[CV] C=0.1, gamma=scale, kernel=rbf ..................................\n",
      "[CV] ...... C=0.1, gamma=scale, kernel=rbf, score=0.753, total=   1.2s\n",
      "[CV] C=0.1, gamma=scale, kernel=rbf ..................................\n",
      "[CV] ...... C=0.1, gamma=scale, kernel=rbf, score=0.752, total=   1.2s\n",
      "[CV] C=0.1, gamma=scale, kernel=rbf ..................................\n",
      "[CV] ...... C=0.1, gamma=scale, kernel=rbf, score=0.752, total=   1.2s\n",
      "[CV] C=1, gamma=auto, kernel=poly ....................................\n",
      "[CV] ........ C=1, gamma=auto, kernel=poly, score=0.763, total=   1.2s\n",
      "[CV] C=1, gamma=auto, kernel=poly ....................................\n",
      "[CV] ........ C=1, gamma=auto, kernel=poly, score=0.769, total=   1.2s\n",
      "[CV] C=1, gamma=auto, kernel=poly ....................................\n",
      "[CV] ........ C=1, gamma=auto, kernel=poly, score=0.768, total=   1.4s\n",
      "[CV] C=1, gamma=auto, kernel=poly ....................................\n",
      "[CV] ........ C=1, gamma=auto, kernel=poly, score=0.772, total=   1.3s\n",
      "[CV] C=1, gamma=auto, kernel=poly ....................................\n",
      "[CV] ........ C=1, gamma=auto, kernel=poly, score=0.759, total=   1.4s\n",
      "[CV] C=1, gamma=auto, kernel=linear ..................................\n",
      "[CV] ...... C=1, gamma=auto, kernel=linear, score=0.752, total=   1.2s\n",
      "[CV] C=1, gamma=auto, kernel=linear ..................................\n",
      "[CV] ...... C=1, gamma=auto, kernel=linear, score=0.752, total=   1.0s\n",
      "[CV] C=1, gamma=auto, kernel=linear ..................................\n",
      "[CV] ...... C=1, gamma=auto, kernel=linear, score=0.753, total=   1.1s\n",
      "[CV] C=1, gamma=auto, kernel=linear ..................................\n",
      "[CV] ...... C=1, gamma=auto, kernel=linear, score=0.752, total=   1.1s\n",
      "[CV] C=1, gamma=auto, kernel=linear ..................................\n",
      "[CV] ...... C=1, gamma=auto, kernel=linear, score=0.752, total=   1.1s\n",
      "[CV] C=1, gamma=auto, kernel=rbf .....................................\n",
      "[CV] ......... C=1, gamma=auto, kernel=rbf, score=0.766, total=   1.3s\n",
      "[CV] C=1, gamma=auto, kernel=rbf .....................................\n",
      "[CV] ......... C=1, gamma=auto, kernel=rbf, score=0.768, total=   1.3s\n",
      "[CV] C=1, gamma=auto, kernel=rbf .....................................\n",
      "[CV] ......... C=1, gamma=auto, kernel=rbf, score=0.764, total=   1.3s\n",
      "[CV] C=1, gamma=auto, kernel=rbf .....................................\n",
      "[CV] ......... C=1, gamma=auto, kernel=rbf, score=0.779, total=   1.3s\n",
      "[CV] C=1, gamma=auto, kernel=rbf .....................................\n",
      "[CV] ......... C=1, gamma=auto, kernel=rbf, score=0.760, total=   1.5s\n",
      "[CV] C=1, gamma=scale, kernel=poly ...................................\n",
      "[CV] ....... C=1, gamma=scale, kernel=poly, score=0.764, total=   1.2s\n",
      "[CV] C=1, gamma=scale, kernel=poly ...................................\n",
      "[CV] ....... C=1, gamma=scale, kernel=poly, score=0.769, total=   1.3s\n",
      "[CV] C=1, gamma=scale, kernel=poly ...................................\n",
      "[CV] ....... C=1, gamma=scale, kernel=poly, score=0.767, total=   1.3s\n",
      "[CV] C=1, gamma=scale, kernel=poly ...................................\n",
      "[CV] ....... C=1, gamma=scale, kernel=poly, score=0.773, total=   1.3s\n",
      "[CV] C=1, gamma=scale, kernel=poly ...................................\n",
      "[CV] ....... C=1, gamma=scale, kernel=poly, score=0.759, total=   1.4s\n",
      "[CV] C=1, gamma=scale, kernel=linear .................................\n",
      "[CV] ..... C=1, gamma=scale, kernel=linear, score=0.752, total=   1.2s\n",
      "[CV] C=1, gamma=scale, kernel=linear .................................\n",
      "[CV] ..... C=1, gamma=scale, kernel=linear, score=0.752, total=   1.1s\n",
      "[CV] C=1, gamma=scale, kernel=linear .................................\n",
      "[CV] ..... C=1, gamma=scale, kernel=linear, score=0.753, total=   1.3s\n",
      "[CV] C=1, gamma=scale, kernel=linear .................................\n",
      "[CV] ..... C=1, gamma=scale, kernel=linear, score=0.752, total=   1.2s\n",
      "[CV] C=1, gamma=scale, kernel=linear .................................\n",
      "[CV] ..... C=1, gamma=scale, kernel=linear, score=0.752, total=   1.2s\n",
      "[CV] C=1, gamma=scale, kernel=rbf ....................................\n",
      "[CV] ........ C=1, gamma=scale, kernel=rbf, score=0.766, total=   1.5s\n",
      "[CV] C=1, gamma=scale, kernel=rbf ....................................\n",
      "[CV] ........ C=1, gamma=scale, kernel=rbf, score=0.768, total=   1.4s\n",
      "[CV] C=1, gamma=scale, kernel=rbf ....................................\n",
      "[CV] ........ C=1, gamma=scale, kernel=rbf, score=0.764, total=   1.3s\n",
      "[CV] C=1, gamma=scale, kernel=rbf ....................................\n",
      "[CV] ........ C=1, gamma=scale, kernel=rbf, score=0.778, total=   1.3s\n",
      "[CV] C=1, gamma=scale, kernel=rbf ....................................\n",
      "[CV] ........ C=1, gamma=scale, kernel=rbf, score=0.760, total=   1.3s\n",
      "[CV] C=10, gamma=auto, kernel=poly ...................................\n"
     ]
    },
    {
     "name": "stdout",
     "output_type": "stream",
     "text": [
      "[CV] ....... C=10, gamma=auto, kernel=poly, score=0.759, total=   3.4s\n",
      "[CV] C=10, gamma=auto, kernel=poly ...................................\n",
      "[CV] ....... C=10, gamma=auto, kernel=poly, score=0.770, total=   3.3s\n",
      "[CV] C=10, gamma=auto, kernel=poly ...................................\n",
      "[CV] ....... C=10, gamma=auto, kernel=poly, score=0.770, total=   3.1s\n",
      "[CV] C=10, gamma=auto, kernel=poly ...................................\n",
      "[CV] ....... C=10, gamma=auto, kernel=poly, score=0.777, total=   3.3s\n",
      "[CV] C=10, gamma=auto, kernel=poly ...................................\n",
      "[CV] ....... C=10, gamma=auto, kernel=poly, score=0.774, total=   2.9s\n",
      "[CV] C=10, gamma=auto, kernel=linear .................................\n",
      "[CV] ..... C=10, gamma=auto, kernel=linear, score=0.752, total=   5.8s\n",
      "[CV] C=10, gamma=auto, kernel=linear .................................\n",
      "[CV] ..... C=10, gamma=auto, kernel=linear, score=0.752, total=   4.8s\n",
      "[CV] C=10, gamma=auto, kernel=linear .................................\n",
      "[CV] ..... C=10, gamma=auto, kernel=linear, score=0.753, total=   5.9s\n",
      "[CV] C=10, gamma=auto, kernel=linear .................................\n",
      "[CV] ..... C=10, gamma=auto, kernel=linear, score=0.752, total=   5.0s\n",
      "[CV] C=10, gamma=auto, kernel=linear .................................\n",
      "[CV] ..... C=10, gamma=auto, kernel=linear, score=0.752, total=   5.2s\n",
      "[CV] C=10, gamma=auto, kernel=rbf ....................................\n",
      "[CV] ........ C=10, gamma=auto, kernel=rbf, score=0.771, total=   1.8s\n",
      "[CV] C=10, gamma=auto, kernel=rbf ....................................\n",
      "[CV] ........ C=10, gamma=auto, kernel=rbf, score=0.781, total=   1.9s\n",
      "[CV] C=10, gamma=auto, kernel=rbf ....................................\n",
      "[CV] ........ C=10, gamma=auto, kernel=rbf, score=0.789, total=   2.0s\n",
      "[CV] C=10, gamma=auto, kernel=rbf ....................................\n",
      "[CV] ........ C=10, gamma=auto, kernel=rbf, score=0.792, total=   1.9s\n",
      "[CV] C=10, gamma=auto, kernel=rbf ....................................\n",
      "[CV] ........ C=10, gamma=auto, kernel=rbf, score=0.782, total=   1.9s\n",
      "[CV] C=10, gamma=scale, kernel=poly ..................................\n",
      "[CV] ...... C=10, gamma=scale, kernel=poly, score=0.759, total=   3.6s\n",
      "[CV] C=10, gamma=scale, kernel=poly ..................................\n",
      "[CV] ...... C=10, gamma=scale, kernel=poly, score=0.770, total=   3.3s\n",
      "[CV] C=10, gamma=scale, kernel=poly ..................................\n",
      "[CV] ...... C=10, gamma=scale, kernel=poly, score=0.770, total=   3.4s\n",
      "[CV] C=10, gamma=scale, kernel=poly ..................................\n",
      "[CV] ...... C=10, gamma=scale, kernel=poly, score=0.779, total=   3.6s\n",
      "[CV] C=10, gamma=scale, kernel=poly ..................................\n",
      "[CV] ...... C=10, gamma=scale, kernel=poly, score=0.773, total=   3.2s\n",
      "[CV] C=10, gamma=scale, kernel=linear ................................\n",
      "[CV] .... C=10, gamma=scale, kernel=linear, score=0.752, total=   6.0s\n",
      "[CV] C=10, gamma=scale, kernel=linear ................................\n",
      "[CV] .... C=10, gamma=scale, kernel=linear, score=0.752, total=   4.7s\n",
      "[CV] C=10, gamma=scale, kernel=linear ................................\n",
      "[CV] .... C=10, gamma=scale, kernel=linear, score=0.753, total=   5.4s\n",
      "[CV] C=10, gamma=scale, kernel=linear ................................\n",
      "[CV] .... C=10, gamma=scale, kernel=linear, score=0.752, total=   5.5s\n",
      "[CV] C=10, gamma=scale, kernel=linear ................................\n",
      "[CV] .... C=10, gamma=scale, kernel=linear, score=0.752, total=   5.8s\n",
      "[CV] C=10, gamma=scale, kernel=rbf ...................................\n",
      "[CV] ....... C=10, gamma=scale, kernel=rbf, score=0.771, total=   2.0s\n",
      "[CV] C=10, gamma=scale, kernel=rbf ...................................\n",
      "[CV] ....... C=10, gamma=scale, kernel=rbf, score=0.780, total=   2.3s\n",
      "[CV] C=10, gamma=scale, kernel=rbf ...................................\n",
      "[CV] ....... C=10, gamma=scale, kernel=rbf, score=0.789, total=   1.9s\n",
      "[CV] C=10, gamma=scale, kernel=rbf ...................................\n",
      "[CV] ....... C=10, gamma=scale, kernel=rbf, score=0.792, total=   1.9s\n",
      "[CV] C=10, gamma=scale, kernel=rbf ...................................\n",
      "[CV] ....... C=10, gamma=scale, kernel=rbf, score=0.783, total=   1.8s\n"
     ]
    },
    {
     "name": "stderr",
     "output_type": "stream",
     "text": [
      "[Parallel(n_jobs=1)]: Done  90 out of  90 | elapsed:  2.9min finished\n"
     ]
    },
    {
     "data": {
      "text/plain": [
       "GridSearchCV(estimator=SVC(),\n",
       "             param_grid={'C': [0.1, 1, 10], 'gamma': ['auto', 'scale'],\n",
       "                         'kernel': ['poly', 'linear', 'rbf']},\n",
       "             verbose=3)"
      ]
     },
     "execution_count": 36,
     "metadata": {},
     "output_type": "execute_result"
    }
   ],
   "source": [
    "grid.fit(X_train_scaled, y_train)"
   ]
  },
  {
   "cell_type": "code",
   "execution_count": 37,
   "metadata": {},
   "outputs": [
    {
     "data": {
      "text/plain": [
       "{'C': 10, 'gamma': 'scale', 'kernel': 'rbf'}"
      ]
     },
     "execution_count": 37,
     "metadata": {},
     "output_type": "execute_result"
    }
   ],
   "source": [
    "grid.best_params_"
   ]
  },
  {
   "cell_type": "code",
   "execution_count": 38,
   "metadata": {},
   "outputs": [
    {
     "data": {
      "text/plain": [
       "SVC(C=10)"
      ]
     },
     "execution_count": 38,
     "metadata": {},
     "output_type": "execute_result"
    }
   ],
   "source": [
    "grid.best_estimator_"
   ]
  },
  {
   "cell_type": "code",
   "execution_count": 39,
   "metadata": {},
   "outputs": [],
   "source": [
    "grid_predictions = grid.predict(X_test_scaled)"
   ]
  },
  {
   "cell_type": "code",
   "execution_count": 40,
   "metadata": {},
   "outputs": [
    {
     "name": "stdout",
     "output_type": "stream",
     "text": [
      "[[1332  103]\n",
      " [ 348  133]]\n"
     ]
    }
   ],
   "source": [
    "print(confusion_matrix(y_test, grid_predictions))"
   ]
  },
  {
   "cell_type": "code",
   "execution_count": 41,
   "metadata": {},
   "outputs": [
    {
     "name": "stdout",
     "output_type": "stream",
     "text": [
      "              precision    recall  f1-score   support\n",
      "\n",
      "           0       0.79      0.93      0.86      1435\n",
      "           1       0.56      0.28      0.37       481\n",
      "\n",
      "    accuracy                           0.76      1916\n",
      "   macro avg       0.68      0.60      0.61      1916\n",
      "weighted avg       0.74      0.76      0.73      1916\n",
      "\n"
     ]
    }
   ],
   "source": [
    "print(classification_report(y_test, grid_predictions))"
   ]
  },
  {
   "cell_type": "markdown",
   "metadata": {},
   "source": [
    "# Conclusion"
   ]
  },
  {
   "cell_type": "markdown",
   "metadata": {},
   "source": [
    "The confusion matrix for SVC is interpreted as below: \n",
    "Accuracy : (TP+TN)/Total = (133+1332)/1916 = 0.764\n",
    "Error : (FN+FP)/Total = (348+103)/1916 = 0.235\n",
    "Recall : TP/(TP+FN) = 133/(133+348) = 133/481 = 0.276\n",
    "Precision : TP/(TP+FP) = 133/(133+103) = 133/236 = 0.56\n"
   ]
  },
  {
   "cell_type": "markdown",
   "metadata": {},
   "source": [
    "The confusion matrix for RandomForestClassifier is interpreted as below: \n",
    "estimator : 10,50,100,200,300,500 and 800 \n",
    "\n",
    "\n",
    "estimator =10\n",
    "Accuracy : (TP+TN)/Total = (1377+237)/1916 = 0.842\n",
    "Error : (FN+FP)/Total = (244+58)/1916 = 0.157\n",
    "Recall : TP/(TP+FN) = 237/(237+244) = 237/481 = 0.492\n",
    "Precision : TP/(TP+FP) = 237/(237+58) = 237/295 = 0.803\n",
    "FP=58\n",
    "\n",
    "estimator =50\n",
    "Accuracy : (TP+TN)/Total = (1401+259)/1916 = 0.866\n",
    "Error : (FN+FP)/Total = (222+34)/1916 = 0.133\n",
    "Recall : TP/(TP+FN) = 259/(259+222) = 259/481 = 0.538\n",
    "Precision : TP/(TP+FP) = 259/(259+34) = 259/293 = 0.88\n",
    "FP=34\n",
    "\n",
    "\n",
    "estimator = 100\n",
    "Accuracy : (TP+TN)/Total = (1403+261)/1916 = 0.86\n",
    "Error : (FN+FP)/Total = (220+32)/1916 = 0.131\n",
    "Recall : TP/(TP+FN) = 261/(261+220) = 261/481 = 0.542\n",
    "Precision : TP/(TP+FP) = 261/(261+32) = 261/293 = 0.890\n",
    "FP=32\n",
    "\n",
    "estimator = 200\n",
    "Accuracy : (TP+TN)/Total = (1408+262)/1916 = 0.871\n",
    "Error : (FN+FP)/Total = (219+27)/1916 = 0.128\n",
    "Recall : TP/(TP+FN) = 262/(262+219) = 262/481 = 0.544\n",
    "Precision : TP/(TP+FP) = 262/(262+27) = 262/289 = 0.90\n",
    "FP=27\n",
    "\n",
    "\n",
    "estimator = 800\n",
    "Accuracy : (TP+TN)/Total = (1408+260)/1916 = 0.870\n",
    "Error : (FN+FP)/Total = (221+27)/1916 = 0.129\n",
    "Recall : TP/(TP+FN) = 260/(260+221) = 260/481 = 0.540\n",
    "Precision : TP/(TP+FP) = 260/(260+27) = 260/287 = 0.905\n",
    "FP=27\n",
    "\n",
    "\n",
    "\n"
   ]
  },
  {
   "cell_type": "markdown",
   "metadata": {},
   "source": [
    "Comparing both the models, performance of Random Forest is good, when we are changing the estimators, we are getting the better result. Accuracy rate is 0.87 in Random Forest model and Accuracy rate is 0.76 in SVC model.\n",
    "Random Forest, FP=27 (False positive are less). SVC model, FP=103. Random Forest model, The accuracy rate is higher than the SVC model, False positive are less than the SVC model. So Random forest model can better predict the \"borrowers will pay back their loans\". We can conclude that \"Random Forest Model performance is better than the SVC model\"."
   ]
  },
  {
   "cell_type": "code",
   "execution_count": null,
   "metadata": {},
   "outputs": [],
   "source": []
  }
 ],
 "metadata": {
  "kernelspec": {
   "display_name": "Python 3",
   "language": "python",
   "name": "python3"
  },
  "language_info": {
   "codemirror_mode": {
    "name": "ipython",
    "version": 3
   },
   "file_extension": ".py",
   "mimetype": "text/x-python",
   "name": "python",
   "nbconvert_exporter": "python",
   "pygments_lexer": "ipython3",
   "version": "3.8.3"
  }
 },
 "nbformat": 4,
 "nbformat_minor": 1
}
