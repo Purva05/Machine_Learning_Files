{
 "cells": [
  {
   "cell_type": "markdown",
   "metadata": {},
   "source": [
    "# Assignment 1\n",
    "\n",
    "In this assignment, you will be analyzing Uber pickup data. You have been given several features defined and labeled by Uber using historical data and you will create a model that will predict whether or not a rider is happy about the pickup experience or not. Uber would like to know whether the features they have determined allow for a good ML model performance. \n",
    "\n",
    "This data set contains the following features:\n",
    "\n",
    "* **id**: trip id assigned by Uber\n",
    "* **driver_id**: id number of the driver assigned by Uber\n",
    "* **uber_type**: type of the uber ride requested (Uber Black, UberX, UberPool)\n",
    "* **rider_type**: type of the rider determined/labeled in-house by Uber (Premium, Commuter, HFR - High Frequency Rider, Social, Traveler, Other)\n",
    "* **rendezvous_confidence**: confidence score of the rendezvous location determined based on historical trips\n",
    "* **driver_distance**: the distance of the driver (in feet) to the rendezvous location when \"ride has arrived\" signal is sent to the rider determined based on GPS location\n",
    "* **rider_distance**: the distance of the rider (in feet) to the rendezvous location when \"ride has arrived\" signal is sent to the rider\n",
    "* **ata_vs_eta**: the time difference (in minutes) between the actual time of arrival (ATA) and the estimated time of arrival (eta)\n",
    "* **happiness**: 0 or 1 indicating whether the rider is happy about the pickup experience or not (derived from ratings)\n",
    "\n",
    "**Note**: rider_distance has missing values. You are instructed not to drop any rows with missing values, instead you will need to impute them based on another feature.\n",
    "\n",
    "\n"
   ]
  },
  {
   "cell_type": "markdown",
   "metadata": {
    "collapsed": true
   },
   "source": [
    "## Library and Data Import"
   ]
  },
  {
   "cell_type": "code",
   "execution_count": 1,
   "metadata": {},
   "outputs": [],
   "source": [
    "import pandas as pd\n",
    "import numpy as np\n",
    "import matplotlib.pyplot as plt\n",
    "import seaborn as sns\n",
    "%matplotlib inline"
   ]
  },
  {
   "cell_type": "code",
   "execution_count": 2,
   "metadata": {},
   "outputs": [],
   "source": [
    "u_data = pd.read_csv('Uber_pickup.csv')"
   ]
  },
  {
   "cell_type": "code",
   "execution_count": 3,
   "metadata": {},
   "outputs": [
    {
     "data": {
      "text/html": [
       "<div>\n",
       "<style scoped>\n",
       "    .dataframe tbody tr th:only-of-type {\n",
       "        vertical-align: middle;\n",
       "    }\n",
       "\n",
       "    .dataframe tbody tr th {\n",
       "        vertical-align: top;\n",
       "    }\n",
       "\n",
       "    .dataframe thead th {\n",
       "        text-align: right;\n",
       "    }\n",
       "</style>\n",
       "<table border=\"1\" class=\"dataframe\">\n",
       "  <thead>\n",
       "    <tr style=\"text-align: right;\">\n",
       "      <th></th>\n",
       "      <th>id</th>\n",
       "      <th>driver_id</th>\n",
       "      <th>uber_type</th>\n",
       "      <th>rider_type</th>\n",
       "      <th>rendezvous_confidence</th>\n",
       "      <th>rider_distance</th>\n",
       "      <th>driver_distance</th>\n",
       "      <th>ata_vs_eta</th>\n",
       "      <th>happiness</th>\n",
       "    </tr>\n",
       "  </thead>\n",
       "  <tbody>\n",
       "    <tr>\n",
       "      <th>0</th>\n",
       "      <td>ID86355</td>\n",
       "      <td>NM0GE9E70F1043201</td>\n",
       "      <td>Uber Black</td>\n",
       "      <td>Traveler</td>\n",
       "      <td>5.304</td>\n",
       "      <td>29.67</td>\n",
       "      <td>3.7</td>\n",
       "      <td>0.9</td>\n",
       "      <td>1</td>\n",
       "    </tr>\n",
       "    <tr>\n",
       "      <th>1</th>\n",
       "      <td>ID86355</td>\n",
       "      <td>WBALZ5C56CD701241</td>\n",
       "      <td>Uber Black</td>\n",
       "      <td>Traveler</td>\n",
       "      <td>5.304</td>\n",
       "      <td>30.67</td>\n",
       "      <td>3.7</td>\n",
       "      <td>1.0</td>\n",
       "      <td>1</td>\n",
       "    </tr>\n",
       "    <tr>\n",
       "      <th>2</th>\n",
       "      <td>ID868202</td>\n",
       "      <td>1FTEW1E87AK806915</td>\n",
       "      <td>UberPool</td>\n",
       "      <td>HFR</td>\n",
       "      <td>3.622</td>\n",
       "      <td>22.47</td>\n",
       "      <td>10.8</td>\n",
       "      <td>1.1</td>\n",
       "      <td>1</td>\n",
       "    </tr>\n",
       "    <tr>\n",
       "      <th>3</th>\n",
       "      <td>ID927241</td>\n",
       "      <td>SALVN2BG6DH555886</td>\n",
       "      <td>UberPool</td>\n",
       "      <td>Traveler</td>\n",
       "      <td>4.712</td>\n",
       "      <td>29.33</td>\n",
       "      <td>5.0</td>\n",
       "      <td>1.1</td>\n",
       "      <td>1</td>\n",
       "    </tr>\n",
       "    <tr>\n",
       "      <th>4</th>\n",
       "      <td>ID927241</td>\n",
       "      <td>YV4902BZ0E1579049</td>\n",
       "      <td>UberPool</td>\n",
       "      <td>Traveler</td>\n",
       "      <td>4.712</td>\n",
       "      <td>29.33</td>\n",
       "      <td>5.0</td>\n",
       "      <td>1.1</td>\n",
       "      <td>1</td>\n",
       "    </tr>\n",
       "  </tbody>\n",
       "</table>\n",
       "</div>"
      ],
      "text/plain": [
       "         id          driver_id   uber_type rider_type  rendezvous_confidence  \\\n",
       "0   ID86355  NM0GE9E70F1043201  Uber Black   Traveler                  5.304   \n",
       "1   ID86355  WBALZ5C56CD701241  Uber Black   Traveler                  5.304   \n",
       "2  ID868202  1FTEW1E87AK806915    UberPool        HFR                  3.622   \n",
       "3  ID927241  SALVN2BG6DH555886    UberPool   Traveler                  4.712   \n",
       "4  ID927241  YV4902BZ0E1579049    UberPool   Traveler                  4.712   \n",
       "\n",
       "   rider_distance  driver_distance  ata_vs_eta  happiness  \n",
       "0           29.67              3.7         0.9          1  \n",
       "1           30.67              3.7         1.0          1  \n",
       "2           22.47             10.8         1.1          1  \n",
       "3           29.33              5.0         1.1          1  \n",
       "4           29.33              5.0         1.1          1  "
      ]
     },
     "execution_count": 3,
     "metadata": {},
     "output_type": "execute_result"
    }
   ],
   "source": [
    "u_data.head()"
   ]
  },
  {
   "cell_type": "code",
   "execution_count": 4,
   "metadata": {},
   "outputs": [
    {
     "name": "stdout",
     "output_type": "stream",
     "text": [
      "<class 'pandas.core.frame.DataFrame'>\n",
      "RangeIndex: 1138 entries, 0 to 1137\n",
      "Data columns (total 9 columns):\n",
      " #   Column                 Non-Null Count  Dtype  \n",
      "---  ------                 --------------  -----  \n",
      " 0   id                     1138 non-null   object \n",
      " 1   driver_id              1138 non-null   object \n",
      " 2   uber_type              1138 non-null   object \n",
      " 3   rider_type             1138 non-null   object \n",
      " 4   rendezvous_confidence  1138 non-null   float64\n",
      " 5   rider_distance         1032 non-null   float64\n",
      " 6   driver_distance        1138 non-null   float64\n",
      " 7   ata_vs_eta             1138 non-null   float64\n",
      " 8   happiness              1138 non-null   int64  \n",
      "dtypes: float64(4), int64(1), object(4)\n",
      "memory usage: 80.1+ KB\n"
     ]
    }
   ],
   "source": [
    "u_data.info()"
   ]
  },
  {
   "cell_type": "code",
   "execution_count": 5,
   "metadata": {},
   "outputs": [
    {
     "data": {
      "text/html": [
       "<div>\n",
       "<style scoped>\n",
       "    .dataframe tbody tr th:only-of-type {\n",
       "        vertical-align: middle;\n",
       "    }\n",
       "\n",
       "    .dataframe tbody tr th {\n",
       "        vertical-align: top;\n",
       "    }\n",
       "\n",
       "    .dataframe thead th {\n",
       "        text-align: right;\n",
       "    }\n",
       "</style>\n",
       "<table border=\"1\" class=\"dataframe\">\n",
       "  <thead>\n",
       "    <tr style=\"text-align: right;\">\n",
       "      <th></th>\n",
       "      <th>rendezvous_confidence</th>\n",
       "      <th>rider_distance</th>\n",
       "      <th>driver_distance</th>\n",
       "      <th>ata_vs_eta</th>\n",
       "      <th>happiness</th>\n",
       "    </tr>\n",
       "  </thead>\n",
       "  <tbody>\n",
       "    <tr>\n",
       "      <th>count</th>\n",
       "      <td>1138.000000</td>\n",
       "      <td>1032.000000</td>\n",
       "      <td>1138.000000</td>\n",
       "      <td>1138.000000</td>\n",
       "      <td>1138.000000</td>\n",
       "    </tr>\n",
       "    <tr>\n",
       "      <th>mean</th>\n",
       "      <td>3.854411</td>\n",
       "      <td>25.039738</td>\n",
       "      <td>9.801933</td>\n",
       "      <td>6.401933</td>\n",
       "      <td>0.405975</td>\n",
       "    </tr>\n",
       "    <tr>\n",
       "      <th>std</th>\n",
       "      <td>0.562318</td>\n",
       "      <td>13.035700</td>\n",
       "      <td>2.430518</td>\n",
       "      <td>3.525344</td>\n",
       "      <td>0.491296</td>\n",
       "    </tr>\n",
       "    <tr>\n",
       "      <th>min</th>\n",
       "      <td>2.105200</td>\n",
       "      <td>5.710000</td>\n",
       "      <td>0.100000</td>\n",
       "      <td>0.900000</td>\n",
       "      <td>0.000000</td>\n",
       "    </tr>\n",
       "    <tr>\n",
       "      <th>25%</th>\n",
       "      <td>3.454800</td>\n",
       "      <td>13.452500</td>\n",
       "      <td>8.600000</td>\n",
       "      <td>2.400000</td>\n",
       "      <td>0.000000</td>\n",
       "    </tr>\n",
       "    <tr>\n",
       "      <th>50%</th>\n",
       "      <td>3.834800</td>\n",
       "      <td>20.880000</td>\n",
       "      <td>10.400000</td>\n",
       "      <td>6.100000</td>\n",
       "      <td>0.000000</td>\n",
       "    </tr>\n",
       "    <tr>\n",
       "      <th>75%</th>\n",
       "      <td>4.212000</td>\n",
       "      <td>37.752500</td>\n",
       "      <td>11.500000</td>\n",
       "      <td>9.600000</td>\n",
       "      <td>1.000000</td>\n",
       "    </tr>\n",
       "    <tr>\n",
       "      <th>max</th>\n",
       "      <td>6.536000</td>\n",
       "      <td>53.810000</td>\n",
       "      <td>14.600000</td>\n",
       "      <td>14.800000</td>\n",
       "      <td>1.000000</td>\n",
       "    </tr>\n",
       "  </tbody>\n",
       "</table>\n",
       "</div>"
      ],
      "text/plain": [
       "       rendezvous_confidence  rider_distance  driver_distance   ata_vs_eta  \\\n",
       "count            1138.000000     1032.000000      1138.000000  1138.000000   \n",
       "mean                3.854411       25.039738         9.801933     6.401933   \n",
       "std                 0.562318       13.035700         2.430518     3.525344   \n",
       "min                 2.105200        5.710000         0.100000     0.900000   \n",
       "25%                 3.454800       13.452500         8.600000     2.400000   \n",
       "50%                 3.834800       20.880000        10.400000     6.100000   \n",
       "75%                 4.212000       37.752500        11.500000     9.600000   \n",
       "max                 6.536000       53.810000        14.600000    14.800000   \n",
       "\n",
       "         happiness  \n",
       "count  1138.000000  \n",
       "mean      0.405975  \n",
       "std       0.491296  \n",
       "min       0.000000  \n",
       "25%       0.000000  \n",
       "50%       0.000000  \n",
       "75%       1.000000  \n",
       "max       1.000000  "
      ]
     },
     "execution_count": 5,
     "metadata": {},
     "output_type": "execute_result"
    }
   ],
   "source": [
    "u_data.describe()"
   ]
  },
  {
   "cell_type": "markdown",
   "metadata": {},
   "source": [
    "## Exploratory Data Analysis through Visualizations\n"
   ]
  },
  {
   "cell_type": "code",
   "execution_count": 6,
   "metadata": {},
   "outputs": [
    {
     "data": {
      "text/plain": [
       "<matplotlib.axes._subplots.AxesSubplot at 0x277da71ea90>"
      ]
     },
     "execution_count": 6,
     "metadata": {},
     "output_type": "execute_result"
    },
    {
     "data": {
      "image/png": "[encoded data removed]",
      "text/plain": [
       "<Figure size 432x288 with 1 Axes>"
      ]
     },
     "metadata": {},
     "output_type": "display_data"
    }
   ],
   "source": [
    "sns.set_style(\"whitegrid\")\n",
    "sns.countplot(x='happiness',data=u_data,palette='RdBu_r')"
   ]
  },
  {
   "cell_type": "code",
   "execution_count": 7,
   "metadata": {},
   "outputs": [
    {
     "data": {
      "text/plain": [
       "Text(0.5, 0, 'rider_distance')"
      ]
     },
     "execution_count": 7,
     "metadata": {},
     "output_type": "execute_result"
    },
    {
     "data": {
      "image/png": "[encoded data removed]",
      "text/plain": [
       "<Figure size 432x288 with 1 Axes>"
      ]
     },
     "metadata": {},
     "output_type": "display_data"
    }
   ],
   "source": [
    "sns.set_style('whitegrid')\n",
    "u_data['rider_distance'].hist(bins=30)\n",
    "plt.xlabel('rider_distance')"
   ]
  },
  {
   "cell_type": "code",
   "execution_count": 8,
   "metadata": {},
   "outputs": [
    {
     "data": {
      "text/plain": [
       "<matplotlib.axes._subplots.AxesSubplot at 0x277daf9e280>"
      ]
     },
     "execution_count": 8,
     "metadata": {},
     "output_type": "execute_result"
    },
    {
     "data": {
      "image/png": "[encoded data removed]",
      "text/plain": [
       "<Figure size 432x288 with 1 Axes>"
      ]
     },
     "metadata": {},
     "output_type": "display_data"
    }
   ],
   "source": [
    "sns.heatmap(u_data.isnull(),yticklabels=False,cbar=False,cmap='viridis')"
   ]
  },
  {
   "cell_type": "code",
   "execution_count": 9,
   "metadata": {},
   "outputs": [
    {
     "data": {
      "text/plain": [
       "<matplotlib.axes._subplots.AxesSubplot at 0x277daffec70>"
      ]
     },
     "execution_count": 9,
     "metadata": {},
     "output_type": "execute_result"
    },
    {
     "data": {
      "image/png": "[encoded data removed]",
      "text/plain": [
       "<Figure size 432x288 with 1 Axes>"
      ]
     },
     "metadata": {},
     "output_type": "display_data"
    }
   ],
   "source": [
    "sns.boxplot(x='uber_type', y='rider_distance', data=u_data)"
   ]
  },
  {
   "cell_type": "code",
   "execution_count": 10,
   "metadata": {},
   "outputs": [
    {
     "data": {
      "text/plain": [
       "<matplotlib.axes._subplots.AxesSubplot at 0x277db08e280>"
      ]
     },
     "execution_count": 10,
     "metadata": {},
     "output_type": "execute_result"
    },
    {
     "data": {
      "image/png": "[encoded data removed]",
      "text/plain": [
       "<Figure size 432x288 with 1 Axes>"
      ]
     },
     "metadata": {},
     "output_type": "display_data"
    }
   ],
   "source": [
    "sns.boxplot(x='rider_type', y='rider_distance', data=u_data)"
   ]
  },
  {
   "cell_type": "code",
   "execution_count": 11,
   "metadata": {},
   "outputs": [
    {
     "data": {
      "text/plain": [
       "uber_type\n",
       "Uber Black    39.868184\n",
       "UberPool      20.025971\n",
       "UberX         12.064716\n",
       "Name: rider_distance, dtype: float64"
      ]
     },
     "execution_count": 11,
     "metadata": {},
     "output_type": "execute_result"
    }
   ],
   "source": [
    "u_data.groupby('uber_type')['rider_distance'].mean()"
   ]
  },
  {
   "cell_type": "code",
   "execution_count": 12,
   "metadata": {},
   "outputs": [
    {
     "data": {
      "text/plain": [
       "rider_type\n",
       "Commuter    22.528593\n",
       "HFR         22.197933\n",
       "Other       23.864681\n",
       "Premium     30.213270\n",
       "Social      27.334621\n",
       "Traveler    23.251022\n",
       "Name: rider_distance, dtype: float64"
      ]
     },
     "execution_count": 12,
     "metadata": {},
     "output_type": "execute_result"
    }
   ],
   "source": [
    "u_data.groupby('rider_type')['rider_distance'].mean()"
   ]
  },
  {
   "cell_type": "markdown",
   "metadata": {},
   "source": [
    "## Data Cleaning"
   ]
  },
  {
   "cell_type": "code",
   "execution_count": 13,
   "metadata": {},
   "outputs": [],
   "source": [
    "def impute_distance(cols):\n",
    "    rider_distance = cols[0]\n",
    "    uber_type = cols[1]\n",
    "    \n",
    "    if pd.isnull(rider_distance):\n",
    "        if uber_type == 'Uber Black':\n",
    "            return 39\n",
    "        elif uber_type == 'UberPool':\n",
    "            return 20\n",
    "        else:\n",
    "            return 12\n",
    "    else:\n",
    "        return rider_distance"
   ]
  },
  {
   "cell_type": "code",
   "execution_count": 14,
   "metadata": {},
   "outputs": [],
   "source": [
    "u_data['rider_distance']=u_data[['rider_distance','uber_type']].apply(impute_distance,axis=1)"
   ]
  },
  {
   "cell_type": "code",
   "execution_count": 15,
   "metadata": {},
   "outputs": [
    {
     "data": {
      "text/plain": [
       "<matplotlib.axes._subplots.AxesSubplot at 0x277da5d4310>"
      ]
     },
     "execution_count": 15,
     "metadata": {},
     "output_type": "execute_result"
    },
    {
     "data": {
      "image/png": "[encoded data removed]",
      "text/plain": [
       "<Figure size 432x288 with 1 Axes>"
      ]
     },
     "metadata": {},
     "output_type": "display_data"
    }
   ],
   "source": [
    "sns.heatmap(u_data.isnull(),yticklabels=False,cbar=False,cmap='viridis')"
   ]
  },
  {
   "cell_type": "code",
   "execution_count": 16,
   "metadata": {},
   "outputs": [],
   "source": [
    "uberType = pd.get_dummies(u_data['uber_type'], drop_first=True)"
   ]
  },
  {
   "cell_type": "code",
   "execution_count": 17,
   "metadata": {},
   "outputs": [],
   "source": [
    "uberType1 = pd.get_dummies(u_data['rider_type'])"
   ]
  },
  {
   "cell_type": "code",
   "execution_count": 18,
   "metadata": {},
   "outputs": [
    {
     "data": {
      "text/html": [
       "<div>\n",
       "<style scoped>\n",
       "    .dataframe tbody tr th:only-of-type {\n",
       "        vertical-align: middle;\n",
       "    }\n",
       "\n",
       "    .dataframe tbody tr th {\n",
       "        vertical-align: top;\n",
       "    }\n",
       "\n",
       "    .dataframe thead th {\n",
       "        text-align: right;\n",
       "    }\n",
       "</style>\n",
       "<table border=\"1\" class=\"dataframe\">\n",
       "  <thead>\n",
       "    <tr style=\"text-align: right;\">\n",
       "      <th></th>\n",
       "      <th>id</th>\n",
       "      <th>driver_id</th>\n",
       "      <th>uber_type</th>\n",
       "      <th>rider_type</th>\n",
       "      <th>rendezvous_confidence</th>\n",
       "      <th>rider_distance</th>\n",
       "      <th>driver_distance</th>\n",
       "      <th>ata_vs_eta</th>\n",
       "      <th>happiness</th>\n",
       "      <th>UberPool</th>\n",
       "      <th>UberX</th>\n",
       "      <th>Commuter</th>\n",
       "      <th>HFR</th>\n",
       "      <th>Other</th>\n",
       "      <th>Premium</th>\n",
       "      <th>Social</th>\n",
       "      <th>Traveler</th>\n",
       "    </tr>\n",
       "  </thead>\n",
       "  <tbody>\n",
       "    <tr>\n",
       "      <th>0</th>\n",
       "      <td>ID86355</td>\n",
       "      <td>NM0GE9E70F1043201</td>\n",
       "      <td>Uber Black</td>\n",
       "      <td>Traveler</td>\n",
       "      <td>5.304</td>\n",
       "      <td>29.67</td>\n",
       "      <td>3.7</td>\n",
       "      <td>0.9</td>\n",
       "      <td>1</td>\n",
       "      <td>0</td>\n",
       "      <td>0</td>\n",
       "      <td>0</td>\n",
       "      <td>0</td>\n",
       "      <td>0</td>\n",
       "      <td>0</td>\n",
       "      <td>0</td>\n",
       "      <td>1</td>\n",
       "    </tr>\n",
       "    <tr>\n",
       "      <th>1</th>\n",
       "      <td>ID86355</td>\n",
       "      <td>WBALZ5C56CD701241</td>\n",
       "      <td>Uber Black</td>\n",
       "      <td>Traveler</td>\n",
       "      <td>5.304</td>\n",
       "      <td>30.67</td>\n",
       "      <td>3.7</td>\n",
       "      <td>1.0</td>\n",
       "      <td>1</td>\n",
       "      <td>0</td>\n",
       "      <td>0</td>\n",
       "      <td>0</td>\n",
       "      <td>0</td>\n",
       "      <td>0</td>\n",
       "      <td>0</td>\n",
       "      <td>0</td>\n",
       "      <td>1</td>\n",
       "    </tr>\n",
       "    <tr>\n",
       "      <th>2</th>\n",
       "      <td>ID868202</td>\n",
       "      <td>1FTEW1E87AK806915</td>\n",
       "      <td>UberPool</td>\n",
       "      <td>HFR</td>\n",
       "      <td>3.622</td>\n",
       "      <td>22.47</td>\n",
       "      <td>10.8</td>\n",
       "      <td>1.1</td>\n",
       "      <td>1</td>\n",
       "      <td>1</td>\n",
       "      <td>0</td>\n",
       "      <td>0</td>\n",
       "      <td>1</td>\n",
       "      <td>0</td>\n",
       "      <td>0</td>\n",
       "      <td>0</td>\n",
       "      <td>0</td>\n",
       "    </tr>\n",
       "    <tr>\n",
       "      <th>3</th>\n",
       "      <td>ID927241</td>\n",
       "      <td>SALVN2BG6DH555886</td>\n",
       "      <td>UberPool</td>\n",
       "      <td>Traveler</td>\n",
       "      <td>4.712</td>\n",
       "      <td>29.33</td>\n",
       "      <td>5.0</td>\n",
       "      <td>1.1</td>\n",
       "      <td>1</td>\n",
       "      <td>1</td>\n",
       "      <td>0</td>\n",
       "      <td>0</td>\n",
       "      <td>0</td>\n",
       "      <td>0</td>\n",
       "      <td>0</td>\n",
       "      <td>0</td>\n",
       "      <td>1</td>\n",
       "    </tr>\n",
       "    <tr>\n",
       "      <th>4</th>\n",
       "      <td>ID927241</td>\n",
       "      <td>YV4902BZ0E1579049</td>\n",
       "      <td>UberPool</td>\n",
       "      <td>Traveler</td>\n",
       "      <td>4.712</td>\n",
       "      <td>29.33</td>\n",
       "      <td>5.0</td>\n",
       "      <td>1.1</td>\n",
       "      <td>1</td>\n",
       "      <td>1</td>\n",
       "      <td>0</td>\n",
       "      <td>0</td>\n",
       "      <td>0</td>\n",
       "      <td>0</td>\n",
       "      <td>0</td>\n",
       "      <td>0</td>\n",
       "      <td>1</td>\n",
       "    </tr>\n",
       "  </tbody>\n",
       "</table>\n",
       "</div>"
      ],
      "text/plain": [
       "         id          driver_id   uber_type rider_type  rendezvous_confidence  \\\n",
       "0   ID86355  NM0GE9E70F1043201  Uber Black   Traveler                  5.304   \n",
       "1   ID86355  WBALZ5C56CD701241  Uber Black   Traveler                  5.304   \n",
       "2  ID868202  1FTEW1E87AK806915    UberPool        HFR                  3.622   \n",
       "3  ID927241  SALVN2BG6DH555886    UberPool   Traveler                  4.712   \n",
       "4  ID927241  YV4902BZ0E1579049    UberPool   Traveler                  4.712   \n",
       "\n",
       "   rider_distance  driver_distance  ata_vs_eta  happiness  UberPool  UberX  \\\n",
       "0           29.67              3.7         0.9          1         0      0   \n",
       "1           30.67              3.7         1.0          1         0      0   \n",
       "2           22.47             10.8         1.1          1         1      0   \n",
       "3           29.33              5.0         1.1          1         1      0   \n",
       "4           29.33              5.0         1.1          1         1      0   \n",
       "\n",
       "   Commuter  HFR  Other  Premium  Social  Traveler  \n",
       "0         0    0      0        0       0         1  \n",
       "1         0    0      0        0       0         1  \n",
       "2         0    1      0        0       0         0  \n",
       "3         0    0      0        0       0         1  \n",
       "4         0    0      0        0       0         1  "
      ]
     },
     "execution_count": 18,
     "metadata": {},
     "output_type": "execute_result"
    }
   ],
   "source": [
    "u_data = pd.concat([u_data, uberType, uberType1], axis=1)\n",
    "u_data.head()"
   ]
  },
  {
   "cell_type": "code",
   "execution_count": 19,
   "metadata": {},
   "outputs": [],
   "source": [
    "u_data.drop(['id', 'driver_id', 'uber_type', 'rider_type'], axis=1, inplace=True)"
   ]
  },
  {
   "cell_type": "code",
   "execution_count": 20,
   "metadata": {},
   "outputs": [
    {
     "data": {
      "text/html": [
       "<div>\n",
       "<style scoped>\n",
       "    .dataframe tbody tr th:only-of-type {\n",
       "        vertical-align: middle;\n",
       "    }\n",
       "\n",
       "    .dataframe tbody tr th {\n",
       "        vertical-align: top;\n",
       "    }\n",
       "\n",
       "    .dataframe thead th {\n",
       "        text-align: right;\n",
       "    }\n",
       "</style>\n",
       "<table border=\"1\" class=\"dataframe\">\n",
       "  <thead>\n",
       "    <tr style=\"text-align: right;\">\n",
       "      <th></th>\n",
       "      <th>rendezvous_confidence</th>\n",
       "      <th>rider_distance</th>\n",
       "      <th>driver_distance</th>\n",
       "      <th>ata_vs_eta</th>\n",
       "      <th>happiness</th>\n",
       "      <th>UberPool</th>\n",
       "      <th>UberX</th>\n",
       "      <th>Commuter</th>\n",
       "      <th>HFR</th>\n",
       "      <th>Other</th>\n",
       "      <th>Premium</th>\n",
       "      <th>Social</th>\n",
       "      <th>Traveler</th>\n",
       "    </tr>\n",
       "  </thead>\n",
       "  <tbody>\n",
       "    <tr>\n",
       "      <th>0</th>\n",
       "      <td>5.304</td>\n",
       "      <td>29.67</td>\n",
       "      <td>3.7</td>\n",
       "      <td>0.9</td>\n",
       "      <td>1</td>\n",
       "      <td>0</td>\n",
       "      <td>0</td>\n",
       "      <td>0</td>\n",
       "      <td>0</td>\n",
       "      <td>0</td>\n",
       "      <td>0</td>\n",
       "      <td>0</td>\n",
       "      <td>1</td>\n",
       "    </tr>\n",
       "    <tr>\n",
       "      <th>1</th>\n",
       "      <td>5.304</td>\n",
       "      <td>30.67</td>\n",
       "      <td>3.7</td>\n",
       "      <td>1.0</td>\n",
       "      <td>1</td>\n",
       "      <td>0</td>\n",
       "      <td>0</td>\n",
       "      <td>0</td>\n",
       "      <td>0</td>\n",
       "      <td>0</td>\n",
       "      <td>0</td>\n",
       "      <td>0</td>\n",
       "      <td>1</td>\n",
       "    </tr>\n",
       "    <tr>\n",
       "      <th>2</th>\n",
       "      <td>3.622</td>\n",
       "      <td>22.47</td>\n",
       "      <td>10.8</td>\n",
       "      <td>1.1</td>\n",
       "      <td>1</td>\n",
       "      <td>1</td>\n",
       "      <td>0</td>\n",
       "      <td>0</td>\n",
       "      <td>1</td>\n",
       "      <td>0</td>\n",
       "      <td>0</td>\n",
       "      <td>0</td>\n",
       "      <td>0</td>\n",
       "    </tr>\n",
       "    <tr>\n",
       "      <th>3</th>\n",
       "      <td>4.712</td>\n",
       "      <td>29.33</td>\n",
       "      <td>5.0</td>\n",
       "      <td>1.1</td>\n",
       "      <td>1</td>\n",
       "      <td>1</td>\n",
       "      <td>0</td>\n",
       "      <td>0</td>\n",
       "      <td>0</td>\n",
       "      <td>0</td>\n",
       "      <td>0</td>\n",
       "      <td>0</td>\n",
       "      <td>1</td>\n",
       "    </tr>\n",
       "    <tr>\n",
       "      <th>4</th>\n",
       "      <td>4.712</td>\n",
       "      <td>29.33</td>\n",
       "      <td>5.0</td>\n",
       "      <td>1.1</td>\n",
       "      <td>1</td>\n",
       "      <td>1</td>\n",
       "      <td>0</td>\n",
       "      <td>0</td>\n",
       "      <td>0</td>\n",
       "      <td>0</td>\n",
       "      <td>0</td>\n",
       "      <td>0</td>\n",
       "      <td>1</td>\n",
       "    </tr>\n",
       "  </tbody>\n",
       "</table>\n",
       "</div>"
      ],
      "text/plain": [
       "   rendezvous_confidence  rider_distance  driver_distance  ata_vs_eta  \\\n",
       "0                  5.304           29.67              3.7         0.9   \n",
       "1                  5.304           30.67              3.7         1.0   \n",
       "2                  3.622           22.47             10.8         1.1   \n",
       "3                  4.712           29.33              5.0         1.1   \n",
       "4                  4.712           29.33              5.0         1.1   \n",
       "\n",
       "   happiness  UberPool  UberX  Commuter  HFR  Other  Premium  Social  Traveler  \n",
       "0          1         0      0         0    0      0        0       0         1  \n",
       "1          1         0      0         0    0      0        0       0         1  \n",
       "2          1         1      0         0    1      0        0       0         0  \n",
       "3          1         1      0         0    0      0        0       0         1  \n",
       "4          1         1      0         0    0      0        0       0         1  "
      ]
     },
     "execution_count": 20,
     "metadata": {},
     "output_type": "execute_result"
    }
   ],
   "source": [
    "u_data.head()"
   ]
  },
  {
   "cell_type": "markdown",
   "metadata": {},
   "source": [
    "## Building the Model"
   ]
  },
  {
   "cell_type": "code",
   "execution_count": 21,
   "metadata": {},
   "outputs": [],
   "source": [
    "from sklearn.model_selection import train_test_split"
   ]
  },
  {
   "cell_type": "code",
   "execution_count": 22,
   "metadata": {},
   "outputs": [
    {
     "data": {
      "text/plain": [
       "Index(['rendezvous_confidence', 'rider_distance', 'driver_distance',\n",
       "       'ata_vs_eta', 'happiness', 'UberPool', 'UberX', 'Commuter', 'HFR',\n",
       "       'Other', 'Premium', 'Social', 'Traveler'],\n",
       "      dtype='object')"
      ]
     },
     "execution_count": 22,
     "metadata": {},
     "output_type": "execute_result"
    }
   ],
   "source": [
    "u_data.columns"
   ]
  },
  {
   "cell_type": "code",
   "execution_count": 23,
   "metadata": {},
   "outputs": [],
   "source": [
    "X = u_data.drop('happiness',axis=1)\n",
    "y = u_data['happiness']"
   ]
  },
  {
   "cell_type": "code",
   "execution_count": 24,
   "metadata": {},
   "outputs": [],
   "source": [
    "X_train, X_test, y_train, y_test = train_test_split(X, y, test_size=0.3, random_state=110)"
   ]
  },
  {
   "cell_type": "code",
   "execution_count": 25,
   "metadata": {},
   "outputs": [],
   "source": [
    "from sklearn.linear_model import LogisticRegression"
   ]
  },
  {
   "cell_type": "code",
   "execution_count": 26,
   "metadata": {},
   "outputs": [
    {
     "data": {
      "text/plain": [
       "LogisticRegression(max_iter=500)"
      ]
     },
     "execution_count": 26,
     "metadata": {},
     "output_type": "execute_result"
    }
   ],
   "source": [
    "logmodel = LogisticRegression(max_iter=500)\n",
    "logmodel.fit(X_train,y_train)"
   ]
  },
  {
   "cell_type": "markdown",
   "metadata": {},
   "source": [
    "## Predictions and Evaluations"
   ]
  },
  {
   "cell_type": "code",
   "execution_count": 27,
   "metadata": {},
   "outputs": [],
   "source": [
    "predictions = logmodel.predict(X_test)"
   ]
  },
  {
   "cell_type": "code",
   "execution_count": 28,
   "metadata": {},
   "outputs": [],
   "source": [
    "from sklearn.metrics import classification_report\n",
    "from sklearn.metrics import confusion_matrix"
   ]
  },
  {
   "cell_type": "code",
   "execution_count": 29,
   "metadata": {},
   "outputs": [
    {
     "name": "stdout",
     "output_type": "stream",
     "text": [
      "              precision    recall  f1-score   support\n",
      "\n",
      "           0       0.86      0.97      0.91       194\n",
      "           1       0.96      0.79      0.87       148\n",
      "\n",
      "    accuracy                           0.89       342\n",
      "   macro avg       0.91      0.88      0.89       342\n",
      "weighted avg       0.90      0.89      0.89       342\n",
      "\n"
     ]
    }
   ],
   "source": [
    "print(classification_report(y_test,predictions))"
   ]
  },
  {
   "cell_type": "code",
   "execution_count": 30,
   "metadata": {},
   "outputs": [
    {
     "name": "stdout",
     "output_type": "stream",
     "text": [
      "[[189   5]\n",
      " [ 31 117]]\n"
     ]
    }
   ],
   "source": [
    "print(confusion_matrix(y_test, predictions))"
   ]
  },
  {
   "cell_type": "markdown",
   "metadata": {},
   "source": [
    "The confusion matrix is interpreted as below:\n",
    "\n",
    "               Predicted Unhappy\tPredicted Happy    Total\n",
    "True Unhappy          189\t               5\t        194\n",
    "True Happy\t           31\t             117\t        148\n",
    "Total\t              220\t             122\t        342\n",
    "\n",
    "Accuracy : (TP+TN)/Total = (117+189)/342 = 0.895\n",
    "\n",
    "Error : (FN+FP)/Total = (31+5)/342 = 0.105 \n",
    "\n",
    "Recall : TP/(TP+FN) = 117/(117+31) = 0.790\n",
    "\n",
    "Precision : TP/(TP+FP) = 117/(117+5) = 0.959\n",
    "\n",
    "Since the FP are less, this model has high precision. So this model can be suitable to predict the customer's happiness. However, there can be additional features added to enhance the model performance. Such as:\n",
    "Rating - The rating provided by rider after the ride, 1 to 5 stars. High stars would mean higher happiness.\n",
    "Tips given - Whether the rider has offered any tip to the driver. If tips are given, that would mean the rider is happy.\n",
    "Rider Feedback - Has the rider provided any feedback, and if it is positive or negative."
   ]
  }
 ],
 "metadata": {
  "kernelspec": {
   "display_name": "Python 3",
   "language": "python",
   "name": "python3"
  },
  "language_info": {
   "codemirror_mode": {
    "name": "ipython",
    "version": 3
   },
   "file_extension": ".py",
   "mimetype": "text/x-python",
   "name": "python",
   "nbconvert_exporter": "python",
   "pygments_lexer": "ipython3",
   "version": "3.8.3"
  }
 },
 "nbformat": 4,
 "nbformat_minor": 1
}
